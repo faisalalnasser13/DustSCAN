{
 "cells": [
  {
   "cell_type": "markdown",
   "id": "f018bad6-618c-4fd6-afed-4a691adf821e",
   "metadata": {
    "tags": []
   },
   "source": [
    "# Import"
   ]
  },
  {
   "cell_type": "code",
   "execution_count": 1,
   "id": "819e1e83-4dd0-40cf-9ba8-6baa0ec39894",
   "metadata": {
    "tags": []
   },
   "outputs": [],
   "source": [
    "import xarray as xr\n",
    "import numpy as np\n",
    "import pandas as pd\n",
    "from datetime import datetime\n",
    "from tqdm import tqdm"
   ]
  },
  {
   "cell_type": "markdown",
   "id": "1d29922e-c29a-40f9-ad7f-da133d408810",
   "metadata": {
    "tags": []
   },
   "source": [
    "# Functions"
   ]
  },
  {
   "cell_type": "code",
   "execution_count": 2,
   "id": "0119ff64",
   "metadata": {},
   "outputs": [],
   "source": [
    "def calc_distance_center_to_edge(source , full_area):\n",
    "    \"\"\"\n",
    "    Calculates the distance from the center of a given area to the edge of the area, as well as the coordinates of the center.\n",
    "\n",
    "    Parameters:\n",
    "    -----------\n",
    "    source (ndarray): \n",
    "        A 2D array containing a binary mask of the area to calculate the distance for.\n",
    "        full_area (ndarray): A 2D array containing a binary mask of the full area that the source area is a part of.\n",
    "\n",
    "    Returns:\n",
    "    -------\n",
    "    float: \n",
    "        The maximum distance in km from the center of the source area to the edge of the full_area.\n",
    "\n",
    "    Notes:\n",
    "    ------\n",
    "        Multiplied by 25 to convert from 0.25 degrees to Kilometers\n",
    "\n",
    "    \"\"\"\n",
    "    if np.sum(source)==0:\n",
    "        return (np.nan, np.nan)\n",
    "    y = int(np.median(np.nonzero(source)[0]))\n",
    "    x = int(np.median(np.nonzero(source)[1]))\n",
    "    # Find the coordinates of all 1s in the matrix\n",
    "    coords = np.argwhere(full_area == 1)\n",
    "    # Calculate the Euclidean distance between the specified 1 and the farthest 1\n",
    "    distances = np.linalg.norm(coords - np.array([y, x]), axis=1)\n",
    "    max_distance = np.max(distances)\n",
    "\n",
    "    return max_distance*25"
   ]
  },
  {
   "cell_type": "code",
   "execution_count": 3,
   "id": "bdd04d65-72b5-475b-b069-4386afbe6cc7",
   "metadata": {
    "tags": []
   },
   "outputs": [],
   "source": [
    "def get_storm_information(storm_mask_3d, wind_speed , smap , evi  , dates , hrs):\n",
    "    \"\"\"\n",
    "    Analyzes storm-related data from various spatiotemporal datasets. Determines the storm's source area, coverage, distance traveled, duration, and environmental parameters (wind speed, soil moisture, EVI) during the storm's initiation.\n",
    "\n",
    "    Parameters\n",
    "    ----------\n",
    "    storm_mask_3d : numpy.ndarray\n",
    "        3D boolean array (time, lat, lon) indicating storm presence.\n",
    "    wind_speed : xarray.Dataset\n",
    "        Xarray dataset containing 3D wind speed data (time, lat, lon).\n",
    "    smap : xarray.Dataset\n",
    "        Xarray dataset containing 3D soil moisture data (time, lat, lon).\n",
    "    evi : xarray.Dataset\n",
    "        Xarray dataset containing 3D Enhanced Vegetation Index (EVI) data (time, lat, lon).\n",
    "    dates : numpy.ndarray\n",
    "        Array of datetime64 objects for each time step.\n",
    "    hrs : int\n",
    "        Hours to determine the storm's source area.\n",
    "\n",
    "    Returns\n",
    "    -------\n",
    "    storm_source_2d : numpy.ndarray\n",
    "        2D array (lat, lon) of the storm's source area.\n",
    "    storm_coverage : numpy.ndarray\n",
    "        2D array (lat, lon) of the storm's coverage.\n",
    "    distance_traveled_km : float\n",
    "        Distance in kilometers the storm traveled.\n",
    "    duration : int\n",
    "        Duration of the storm in hours.\n",
    "    start, end : numpy.datetime64\n",
    "        Start and end datetime of the storm.\n",
    "    wind_speed_storm_2d : numpy.ndarray\n",
    "        2D array (lat, lon) of wind speed during the storm initiation.\n",
    "    soil_m_storm_2d : numpy.ndarray\n",
    "        2D array (lat, lon) of soil moisture during the storm initiation.\n",
    "    evi_storm_2d : numpy.ndarray\n",
    "        2D array (lat, lon) of EVI during the storm initiation.\n",
    "\n",
    "    Notes\n",
    "    -----\n",
    "    The function focuses on the initial 'hrs' hours of the storm to determine its source and properties, then extends the analysis over the storm's entire duration.\n",
    "    \"\"\"\n",
    "    \n",
    "\n",
    "    \n",
    "    times = np.unique(np.nonzero(storm_mask_3d)[0])\n",
    "    first_inds = times[:hrs]\n",
    "    storm_source_2d = np.logical_or.reduce(storm_mask_3d[first_inds] , axis=0) \n",
    "    \n",
    "    # storm properties\n",
    "    start= dates[times[0]]\n",
    "    end = dates[times[-1]]\n",
    "    time_difference = end.astype('datetime64[h]') - start.astype('datetime64[h]')\n",
    "    duration =  time_difference.astype(int)\n",
    "    storm_coverage = np.logical_or.reduce(storm_mask_3d , axis=0).astype(int)\n",
    "    distance_traveled_km = calc_distance_center_to_edge( storm_source_2d ,  storm_coverage )\n",
    "    \n",
    "    # wind\n",
    "    wind_speed = wind_speed.sel(time=slice(start, start + np.timedelta64(3, 'h'))).wind_speed.values.copy()\n",
    "    wind_speed_storm_2d = storm_source_2d * np.nanmax(wind_speed ,axis=0) \n",
    "    wind_speed_storm_2d [~storm_source_2d]= np.nan\n",
    "    # soil m\n",
    "    soil_m = smap.sel(time = start.astype('datetime64[D]')).soil_moisture.values.copy()\n",
    "    soil_m [~storm_source_2d]= np.nan\n",
    "    \n",
    "    #evi\n",
    "    evi_day = evi.sel(time = start.astype('datetime64[D]')).evi.values.copy()\n",
    "    evi_day [~storm_source_2d]= np.nan\n",
    "    \n",
    "\n",
    "    return storm_source_2d , storm_coverage , distance_traveled_km , duration , start, end , wind_speed_storm_2d , soil_m , evi_day\n"
   ]
  },
  {
   "cell_type": "markdown",
   "id": "9a346cf3-0290-46ea-bbf4-03bb1cd71da7",
   "metadata": {
    "tags": []
   },
   "source": [
    "# Apply"
   ]
  },
  {
   "cell_type": "code",
   "execution_count": 4,
   "id": "e15cd85e-6e6a-43a7-96fe-f9ba8e601d0d",
   "metadata": {
    "tags": []
   },
   "outputs": [],
   "source": [
    "smap=xr.open_dataset('DustSCAN_SMAP_2015_2022.nc')"
   ]
  },
  {
   "cell_type": "code",
   "execution_count": 5,
   "id": "5c612a4b-a04e-4571-9960-283d4c44c106",
   "metadata": {
    "tags": []
   },
   "outputs": [],
   "source": [
    "smap_filled = smap.ffill(dim='time', limit=7) ## Forward fills up to 7 consecutive missing values along the time dimension in the smap data array.\n",
    "full_time_range  = pd.date_range(start= smap_filled.time.values[0], end=smap_filled.time.values[-1], freq='D')\n",
    "smap_filled = smap_filled.reindex(time=full_time_range)"
   ]
  },
  {
   "cell_type": "code",
   "execution_count": 6,
   "id": "287fffbe-c268-4b95-bc1d-ef425971edd6",
   "metadata": {
    "tags": []
   },
   "outputs": [],
   "source": [
    "evi =xr.open_dataset('DustSCAN_MODIS_EVI_2017_2022.nc')"
   ]
  },
  {
   "cell_type": "code",
   "execution_count": 7,
   "id": "1f3c3761-95cd-4079-994b-4e8f1d22a6c1",
   "metadata": {
    "tags": []
   },
   "outputs": [],
   "source": [
    "evi_filled=evi.resample(time='1D').nearest() # Resamples the evi data array to a daily frequency, filling with the nearest values."
   ]
  },
  {
   "cell_type": "code",
   "execution_count": 8,
   "id": "3935e260-f719-40ca-8025-bdc70aa8bbe6",
   "metadata": {
    "tags": []
   },
   "outputs": [],
   "source": [
    "lons = evi.longitude.values\n",
    "lats = evi.latitude.values"
   ]
  },
  {
   "cell_type": "code",
   "execution_count": 12,
   "id": "c31e4b0b-3cd4-43c6-9087-8f1b1438683f",
   "metadata": {
    "tags": []
   },
   "outputs": [
    {
     "name": "stdout",
     "output_type": "stream",
     "text": [
      "Current time: 18:31:07\n"
     ]
    },
    {
     "name": "stderr",
     "output_type": "stream",
     "text": [
      "  0%|          | 0/5 [00:00<?, ?it/s]"
     ]
    }
   ],
   "source": [
    "print(\"Current time:\", datetime.now().strftime(\"%H:%M:%S\"))\n",
    "# List of years to consider\n",
    "years = [2018, 2019, 2020, 2021, 2022 ]\n",
    "ds_list=[]\n",
    "\n",
    "ti = 3 # the number of hours used to define the source area of the plume\n",
    "# Loop over the years\n",
    "for year in tqdm(years):\n",
    "    dust_scan = xr.open_dataset(\"DustSCAN_\"+str(year)+\".nc\")\n",
    "    labels = dust_scan[\"plume_id\"].values\n",
    "    dates= dust_scan[\"time\"].values\n",
    "    \n",
    "\n",
    "    # Open the NetCDF file containing wind data, select data matching dust data dates\n",
    "    era_5_wind = xr.open_dataset('DustSCAN_ERA5_'+str(year)+'.nc')\n",
    "    era_5_wind['wind_speed'] = np.sqrt(era_5_wind['u_10']**2 + era_5_wind['v_10']**2)\n",
    "    era_5_wind = era_5_wind.sel(time= dates)\n",
    " \n",
    "\n",
    "    # Initialization of lists to hold values\n",
    "    storm_ids = []\n",
    "    sources=[]\n",
    "    coverages=[]\n",
    "    distances = []\n",
    "    durations = []\n",
    "    contributions =[]\n",
    "    starts=[]\n",
    "    ends=[]\n",
    "    ws_arrays = []\n",
    "    sm_arrays = []\n",
    "    evi_arrays =[]\n",
    "    \n",
    "    # Loop over the unique dust storm labels, skipping the first which is 0 (no dust)\n",
    "    for i in np.unique(labels)[1:]:\n",
    "        # Create a mask for the current dust storm\n",
    "        storm = labels==i\n",
    "        # Calculate wind speed, soil moisture, and evi for the source area of the current dust storm.\n",
    "        storm_source_2d , storm_coverage , distance_traveled_km , storm_duration , start, end , wind_speed_storm_2d , soil_m_storm_2d , evi_storm_2d = get_storm_information(storm, era_5_wind , smap_filled, evi_filled ,dates, ti)\n",
    "\n",
    "        storm_ids.append(i)\n",
    "        sources.append(storm_source_2d)\n",
    "        coverages.append(storm_coverage)\n",
    "        distances.append(distance_traveled_km)\n",
    "        durations.append(storm_duration)\n",
    "        starts.append(start)\n",
    "        ends.append(end)\n",
    "        sm_arrays.append(soil_m_storm_2d)\n",
    "        ws_arrays.append(wind_speed_storm_2d)\n",
    "        evi_arrays.append(evi_storm_2d)\n",
    "        contributions.append(np.sum(storm))\n",
    "\n",
    "\n",
    "\n",
    "    ds = xr.Dataset(\n",
    "    data_vars={\n",
    "        \"source\": ((\"plume_id\", \"lat\", \"lon\"),  np.stack(sources) ),\n",
    "        \"coverage\": ((\"plume_id\", \"lat\", \"lon\"), np.stack(coverages)),\n",
    "        \"wind_speed\": ((\"plume_id\", \"lat\", \"lon\"),  np.stack(ws_arrays)),\n",
    "        \"soil_moisture\": ((\"plume_id\", \"lat\", \"lon\"),  np.stack(sm_arrays)),\n",
    "        \"evi\": ((\"plume_id\", \"lat\", \"lon\"),  np.stack(evi_arrays)),\n",
    "        \"distance\": ((\"plume_id\"),  np.array(distances)),\n",
    "        \"duration\": ((\"plume_id\"),  np.array(durations)),\n",
    "        \"contribution\": ((\"plume_id\"),  np.array(contributions)),\n",
    "        \"start_time\": ((\"plume_id\"),  np.array(starts)),\n",
    "        \"end_time\": ((\"plume_id\"),  np.array(ends)),\n",
    "\n",
    "\n",
    "    },\n",
    "    coords={\n",
    "        \"plume_id\": np.array(storm_ids).astype(int),\n",
    "        \"latitude\": ((\"lat\", \"lon\"), lats),\n",
    "        \"longitude\": ((\"lat\", \"lon\"), lons),\n",
    "        },\n",
    "    )\n",
    "    ds_list.append(ds)\n",
    "ds = xr.concat(ds_list , dim=\"plume_id\")"
   ]
  },
  {
   "cell_type": "code",
   "execution_count": null,
   "id": "c7391cdd",
   "metadata": {},
   "outputs": [],
   "source": [
    "# Adding long names and descriptions\n",
    "ds[\"source\"].attrs[\"long_name\"] = \"Source Area\"\n",
    "ds[\"source\"].attrs[\"description\"] = \"Source area of the plume. Defined as the area covered within the first \" + str(ti) + \" hours of the plume.\"\n",
    "\n",
    "ds[\"coverage\"].attrs[\"long_name\"] = \"Plume Coverage\"\n",
    "ds[\"coverage\"].attrs[\"description\"] = \"The area covered by the plume. Reported as a binary map of all the pixels the plume reached.\"\n",
    "\n",
    "ds[\"wind_speed\"].attrs[\"long_name\"] = \"Source Wind Speed\"\n",
    "ds[\"wind_speed\"].attrs[\"description\"] = \"Wind speed in the source area.\"\n",
    "\n",
    "ds[\"soil_moisture\"].attrs[\"long_name\"] = \"Soil Moisture\"\n",
    "ds[\"soil_moisture\"].attrs[\"description\"] = \"Soil moisture in the source area.\"\n",
    "\n",
    "ds[\"evi\"].attrs[\"long_name\"] = \"Enhanced Vegetation Index\"\n",
    "ds[\"evi\"].attrs[\"description\"] = \"Enhanced Vegetation Index in the source area.\"\n",
    "\n",
    "ds[\"distance\"].attrs[\"long_name\"] = \"Distance from Source\"\n",
    "ds[\"distance\"].attrs[\"description\"] = \"Distance traveled by the plume. Calculated as the distance from the center to farthest point reached by the plume.\"\n",
    "\n",
    "ds[\"duration\"].attrs[\"long_name\"] = \"Plume Duration\"\n",
    "ds[\"duration\"].attrs[\"description\"] = \"Duration of the plume in hours.\"\n",
    "\n",
    "ds[\"contribution\"].attrs[\"long_name\"] = \"Contribution\"\n",
    "ds[\"contribution\"].attrs[\"description\"] = \"Sum of pixels identified during the lifetime of the plume.\"\n",
    "\n",
    "ds[\"start_time\"].attrs[\"long_name\"] = \"Start Time\"\n",
    "ds[\"start_time\"].attrs[\"description\"] = \"Start time of the plume in UTC.\"\n",
    "\n",
    "ds[\"end_time\"].attrs[\"long_name\"] = \"End Time\"\n",
    "ds[\"end_time\"].attrs[\"description\"] = \"End time of the plume in UTC.\"\n",
    "\n",
    "ds[\"plume_id\"].attrs[\"long_name\"] = \"Plume ID\"\n",
    "ds[\"plume_id\"].attrs[\"description\"] = \"Unique identifier for each plume.\"\n",
    "\n",
    "\n",
    "ds[\"latitude\"].attrs = {\n",
    "        'long_name': \"Latitude\",\n",
    "        'units': \"degrees_north\",\n",
    "        'description': \"Latitude values\",\n",
    "    }\n",
    "\n",
    "ds[\"longitude\"].attrs = {\n",
    "        'long_name': \"Longitude\",\n",
    "        'units': \"degrees_east\",\n",
    "        'description': \"Longitude values\",}\n",
    "\n",
    "\n",
    "ds.attrs = {\n",
    "'Conventions': 'CF-1.10',\n",
    "'title' :'DustSCAN Plume Properties',\n",
    "'description' :'SEVIRI derived dust plumes properties, integrated with SMAP soil moisture, MODIS Enhanced Vegetation Index, and ERA-5 wind speed.' ,\n",
    "'source' :'DustSCAN: A Five Year (2018-2022) Hourly Dataset of Dust Plumes From SEVIRI.',\n",
    "'version' : '1.0',\n",
    "'reference' : 'doi: x',\n",
    "'Authors' : 'Faisal AlNasser and Dara Entekahbi',\n",
    "'history' : str(datetime.utcnow()) + ' Python',\n",
    "}"
   ]
  },
  {
   "cell_type": "code",
   "execution_count": null,
   "id": "c528d711",
   "metadata": {},
   "outputs": [],
   "source": [
    "ds.to_netcdf(\"DustSCAN_plume_properties.nc\")"
   ]
  }
 ],
 "metadata": {
  "kernelspec": {
   "display_name": "Python 3 (ipykernel)",
   "language": "python",
   "name": "python3"
  },
  "language_info": {
   "codemirror_mode": {
    "name": "ipython",
    "version": 3
   },
   "file_extension": ".py",
   "mimetype": "text/x-python",
   "name": "python",
   "nbconvert_exporter": "python",
   "pygments_lexer": "ipython3",
   "version": "3.12.3"
  }
 },
 "nbformat": 4,
 "nbformat_minor": 5
}
