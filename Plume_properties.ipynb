{
 "cells": [
  {
   "cell_type": "markdown",
   "id": "f018bad6-618c-4fd6-afed-4a691adf821e",
   "metadata": {
    "tags": []
   },
   "source": [
    "# Import"
   ]
  },
  {
   "cell_type": "code",
   "execution_count": 2,
   "id": "819e1e83-4dd0-40cf-9ba8-6baa0ec39894",
   "metadata": {
    "tags": []
   },
   "outputs": [],
   "source": [
    "import xarray as xr\n",
    "import h5py\n",
    "import numpy as np\n",
    "import pandas as pd\n",
    "import pylab as plt\n",
    "from datetime import datetime , timedelta\n",
    "from tqdm import tqdm"
   ]
  },
  {
   "cell_type": "code",
   "execution_count": 3,
   "id": "b912601e-d126-4552-a41b-54b739f0e9e5",
   "metadata": {
    "tags": []
   },
   "outputs": [],
   "source": [
    "from matplotlib import colors\n",
    "import cartopy\n",
    "import cartopy.crs as ccrs\n",
    "from cartopy.mpl.gridliner import LONGITUDE_FORMATTER, LATITUDE_FORMATTER\n",
    "from matplotlib.colors import ListedColormap, LinearSegmentedColormap\n",
    "import matplotlib.ticker as mticker\n",
    "import matplotlib.colors\n",
    "import matplotlib.pyplot as plt"
   ]
  },
  {
   "cell_type": "markdown",
   "id": "1d29922e-c29a-40f9-ad7f-da133d408810",
   "metadata": {
    "tags": []
   },
   "source": [
    "# Func"
   ]
  },
  {
   "cell_type": "code",
   "execution_count": 4,
   "id": "48a93e3d-2da6-4e62-bb07-1bc9214734b9",
   "metadata": {
    "tags": []
   },
   "outputs": [],
   "source": [
    "def get_storm_information(storm_mask_3d, wind_speed ,soil_m, evi_season ,dates, hrs):\n",
    "    \"\"\"\n",
    "    The function takes a 3d (spatiotemporal): storm mask, soil moisture, wind, and EVI datasets. \n",
    "    It calculates storm properties: source area, defined by first x hrs, storm coverage, and distance traveled\n",
    "    the maximum wind speed, minimum soil moisture, and minimum EVI over the storm area.\n",
    "\n",
    "    Parameters\n",
    "    ----------\n",
    "    storm_mask_3d : numpy.ndarray (time, lat , lon)\n",
    "        A 3D (spatiotemporal) boolean mask with the same shape as the `soil_m`, `wind_speed`, and `evi_data` arrays, where\n",
    "        True values represent the presence of the storm.\n",
    "\n",
    "    wind_speed : numpy.ndarray (time, lat , lon)\n",
    "        A 3D (spatiotemporal) array representing wind speed data.\n",
    "\n",
    "    soil_m : numpy.ndarray (time, lat , lon)\n",
    "        A 3D (spatiotemporal) array representing soil moisture data.\n",
    "\n",
    "    evi_season : numpy.ndarray (time, lat , lon)\n",
    "        A 3D (spatiotemporal) array representing Enhanced Vegetation Index (EVI) data.\n",
    "    \n",
    "    dates : numpy.ndarray\n",
    "        A numpy array of datetime64 dates corresponding to each time step in the dataset.\n",
    "\n",
    "    hrs : int\n",
    "        An integer representing the number of hours to define a source area.\n",
    "\n",
    "\n",
    "    Returns\n",
    "    -------\n",
    "    storm_source_2d : numpy.ndarray\n",
    "        A 2D array representing the storm source area, as a slice of the original `storm_mask_3d` array. With shape (lat , lon)\n",
    "\n",
    "    storm_coverage : numpy.ndarray\n",
    "        A 2D array representing the storm coverage, indicating areas affected by the storm, as a slice of the original `storm_mask_3d` array. With shape (lat , lon).\n",
    "\n",
    "    distance_traveled_km : float\n",
    "        The distance traveled by the storm in kilometers. Defined as the distance from the centeriod of the source to the farthest point from it in the storm.\n",
    "        \n",
    "    duration : int\n",
    "        The duration of the storm in hours.    \n",
    "        \n",
    "    start : numpy.datetime64\n",
    "        The start date and time of the storm.\n",
    "\n",
    "    end : numpy.datetime64\n",
    "        The end date and time of the storm.\n",
    "\n",
    "    wind_speed_storm_2d : numpy.ndarray\n",
    "        A 2D array representing the maximum wind speed during the first x hours, as a slice of the `wind_speed` array. With shape (lat , lon).\n",
    "\n",
    "    soil_m_storm_2d : numpy.ndarray\n",
    "        A 2D array representing the minimum soil moisture during the first x hours, as a slice of the `soil_m` array. With shape (lat , lon).\n",
    "\n",
    "    evi_storm_2d : numpy.ndarray\n",
    "        A 2D array representing the minimum Enhanced Vegetation Index (EVI) during the first x hours, as a slice of the `evi_season` array. With shape (lat , lon).\n",
    "\n",
    "    Notes\n",
    "    ------\n",
    "    The function takes the first `hrs` and applies to `storm_mask_3d` along the 0-th (time) axis to extract source area.\n",
    "    It then uses the source area to extracts the `soil_m`, `wind_speed`, and `evi_season` arrays.\n",
    "\n",
    "    \"\"\"\n",
    "    \n",
    "\n",
    "    \n",
    "    times = np.unique(np.nonzero(storm_mask_3d)[0])\n",
    "    first_inds = times[:hrs]\n",
    "    storm_source_2d = np.logical_or.reduce(storm_mask_3d[first_inds] , axis=0).astype(float)\n",
    "    \n",
    "    # storm properties\n",
    "    start= dates[times[0]]\n",
    "    end = dates[times[-1]]\n",
    "    time_difference = end - start\n",
    "    duration =  time_difference.astype(int)//60\n",
    "    #duration = len(np.unique(np.nonzero(storm_mask_3d)[0]))\n",
    "    storm_coverage = np.logical_or.reduce(storm , axis=0).astype(int)\n",
    "    distance_traveled_km = calc_distance_center_to_edge( storm_source_2d ,  storm_coverage )\n",
    "    \n",
    "    # wind\n",
    "    wind_speed_storm_3d = wind_speed.copy()\n",
    "    wind_speed_storm_3d[~storm_mask_3d]=np.nan\n",
    "    wind_speed_storm_3d=wind_speed_storm_3d[first_inds]\n",
    "    wind_speed_storm_2d = np.nanmax(wind_speed_storm_3d, axis=0) * storm_source_2d\n",
    "    \n",
    "    # soil m\n",
    "    soil_m_storm_3d = soil_m.copy()\n",
    "    soil_m_storm_3d[~storm_mask_3d]=np.nan\n",
    "    soil_m_storm_3d=soil_m_storm_3d[first_inds]\n",
    "    soil_m_storm_2d = np.nanmin(soil_m_storm_3d, axis=0) * storm_source_2d\n",
    "    \n",
    "    #evi\n",
    "    evi_storm_3d = evi_season.copy()\n",
    "    evi_storm_3d[~storm_mask_3d]=np.nan\n",
    "    evi_storm_3d= evi_storm_3d[first_inds]\n",
    "    evi_storm_2d = np.nanmin(evi_storm_3d , axis=0) * storm_source_2d\n",
    "\n",
    "    return storm_source_2d , storm_coverage , distance_traveled_km , duration , start, end , wind_speed_storm_2d , soil_m_storm_2d , evi_storm_2d\n"
   ]
  },
  {
   "cell_type": "code",
   "execution_count": 5,
   "id": "14df72c9-40b0-4e6a-8f34-4a2b17925539",
   "metadata": {
    "tags": []
   },
   "outputs": [],
   "source": [
    "def calc_distance_center_to_edge(source , full_area):\n",
    "    \"\"\"\n",
    "    Calculates the distance from the center of a given area to the edge of the area, as well as the coordinates of the center.\n",
    "\n",
    "    Args:\n",
    "    source (ndarray): A 2D array containing a binary mask of the area to calculate the distance for.\n",
    "    full_area (ndarray): A 2D array containing a binary mask of the full area that the source area is a part of.\n",
    "\n",
    "    Returns:\n",
    "    float: The maximum distance in km from the center of the source area to the edge of the full_area.\n",
    "    \"\"\"\n",
    "    if np.sum(source)==0:\n",
    "        return (np.nan, np.nan)\n",
    "    y = int(np.median(np.nonzero(source)[0]))\n",
    "    x = int(np.median(np.nonzero(source)[1]))\n",
    "    # Find the coordinates of all 1s in the matrix\n",
    "    coords = np.argwhere(full_area == 1)\n",
    "    # Calculate the Euclidean distance between the specified 1 and the farthest 1\n",
    "    distances = np.linalg.norm(coords - np.array([y, x]), axis=1)\n",
    "    max_distance = np.max(distances)\n",
    "\n",
    "    return max_distance*25"
   ]
  },
  {
   "cell_type": "code",
   "execution_count": 6,
   "id": "bd45ae6e-12b1-4b8c-8e56-c5ccb1cbde66",
   "metadata": {
    "tags": []
   },
   "outputs": [],
   "source": [
    "def fix_dates(dates, year, season):\n",
    "    '''\n",
    "    Adds the specified year to the dates.\n",
    "\n",
    "    Parameters\n",
    "    ----------\n",
    "    dates : list\n",
    "        A list of dates in string format.\n",
    "\n",
    "    year : int\n",
    "        The year to be added to the dates.\n",
    "\n",
    "    season : str\n",
    "        The season for which the dates are being fixed.\n",
    "\n",
    "    Returns\n",
    "    -------\n",
    "    dates_ : numpy.ndarray\n",
    "        An array of numpy.datetime64 objects with the fixed dates.\n",
    "\n",
    "    Notes\n",
    "    -----\n",
    "    This function assumes that the input dates are in the format 'MM-DD'.\n",
    "    If the season is 'DJF' (December-January-February), the function handles the year transition correctly.\n",
    "    The output dates are in numpy.datetime64 format.\n",
    "    '''\n",
    "    dates = [d.decode() for d in dates]\n",
    "    new_dates = []\n",
    "    # Adds year to data\n",
    "    if season == \"DJF\":\n",
    "        for date in dates:\n",
    "            if date.startswith('12'):\n",
    "                new_date = date.replace('12-', str(int(year)-1)+'-12-')\n",
    "                new_dates.append(new_date)\n",
    "            elif date.startswith('01'):\n",
    "                new_date = date.replace('01-', str(year)+'-01-')\n",
    "                new_dates.append(new_date)\n",
    "            else:\n",
    "                new_date = date.replace('02-', str(year)+'-02-')\n",
    "                new_dates.append(new_date)\n",
    "    else:\n",
    "        for date in dates:\n",
    "            new_date = str(year) +'-'+ date\n",
    "            new_dates.append(new_date)\n",
    "\n",
    "            \n",
    "    dates_ = np.array([np.datetime64(d) for d in new_dates])\n",
    "    return dates_"
   ]
  },
  {
   "cell_type": "code",
   "execution_count": 7,
   "id": "3a79ae3b-6445-42d4-95c7-671979e830ea",
   "metadata": {
    "tags": []
   },
   "outputs": [],
   "source": [
    "def get_start_end(year, season):\n",
    "    '''\n",
    "    Returns the start and end dates for the specified year and season.\n",
    "\n",
    "    Parameters\n",
    "    ----------\n",
    "    year : int\n",
    "        The year for which the start and end dates are required.\n",
    "\n",
    "    season : str\n",
    "        The season for which the start and end dates are required.\n",
    "\n",
    "    Returns\n",
    "    -------\n",
    "    start : pandas.Timestamp\n",
    "        The start date of the specified season.\n",
    "\n",
    "    end : pandas.Timestamp\n",
    "        The end date of the specified season.\n",
    "\n",
    "    Notes\n",
    "    -----\n",
    "    The start and end dates are returned as pandas.Timestamp objects.\n",
    "    '''\n",
    "    season_to_date_range = {\n",
    "        \"DJF\": [pd.to_datetime(str(year-1)+ \"-12\"), pd.to_datetime(str(year)+ \"-03\")],  # December of previous year through February\n",
    "        \"MAM\": [pd.to_datetime(str(year)+ \"-03\"), pd.to_datetime(str(year)+ \"-06\")],  # March through May\n",
    "        \"JJA\": [pd.to_datetime(str(year)+ \"-06\"), pd.to_datetime(str(year)+ \"-09\")],  # June through August\n",
    "        \"SON\": [pd.to_datetime(str(year)+ \"-09\"), pd.to_datetime(str(year)+ \"-12\")]  # September through November\n",
    "    }\n",
    "    # Get the corresponding date range for the input season\n",
    "    start , end = season_to_date_range[season]\n",
    "    return start , end"
   ]
  },
  {
   "cell_type": "markdown",
   "id": "9a346cf3-0290-46ea-bbf4-03bb1cd71da7",
   "metadata": {
    "tags": []
   },
   "source": [
    "# Apply"
   ]
  },
  {
   "cell_type": "code",
   "execution_count": 8,
   "id": "e15cd85e-6e6a-43a7-96fe-f9ba8e601d0d",
   "metadata": {
    "tags": []
   },
   "outputs": [],
   "source": [
    "smap=xr.open_dataset('D:/SMAP_Data_Processing/smap_8_day_resampled.nc')"
   ]
  },
  {
   "cell_type": "code",
   "execution_count": 9,
   "id": "287fffbe-c268-4b95-bc1d-ef425971edd6",
   "metadata": {
    "tags": []
   },
   "outputs": [],
   "source": [
    "evi_data=xr.open_dataset('D:/modis/modis_evi_2017_2022.nc')"
   ]
  },
  {
   "cell_type": "code",
   "execution_count": 10,
   "id": "1f3c3761-95cd-4079-994b-4e8f1d22a6c1",
   "metadata": {
    "tags": []
   },
   "outputs": [
    {
     "data": {
      "text/html": [
       "<div><svg style=\"position: absolute; width: 0; height: 0; overflow: hidden\">\n",
       "<defs>\n",
       "<symbol id=\"icon-database\" viewBox=\"0 0 32 32\">\n",
       "<path d=\"M16 0c-8.837 0-16 2.239-16 5v4c0 2.761 7.163 5 16 5s16-2.239 16-5v-4c0-2.761-7.163-5-16-5z\"></path>\n",
       "<path d=\"M16 17c-8.837 0-16-2.239-16-5v6c0 2.761 7.163 5 16 5s16-2.239 16-5v-6c0 2.761-7.163 5-16 5z\"></path>\n",
       "<path d=\"M16 26c-8.837 0-16-2.239-16-5v6c0 2.761 7.163 5 16 5s16-2.239 16-5v-6c0 2.761-7.163 5-16 5z\"></path>\n",
       "</symbol>\n",
       "<symbol id=\"icon-file-text2\" viewBox=\"0 0 32 32\">\n",
       "<path d=\"M28.681 7.159c-0.694-0.947-1.662-2.053-2.724-3.116s-2.169-2.030-3.116-2.724c-1.612-1.182-2.393-1.319-2.841-1.319h-15.5c-1.378 0-2.5 1.121-2.5 2.5v27c0 1.378 1.122 2.5 2.5 2.5h23c1.378 0 2.5-1.122 2.5-2.5v-19.5c0-0.448-0.137-1.23-1.319-2.841zM24.543 5.457c0.959 0.959 1.712 1.825 2.268 2.543h-4.811v-4.811c0.718 0.556 1.584 1.309 2.543 2.268zM28 29.5c0 0.271-0.229 0.5-0.5 0.5h-23c-0.271 0-0.5-0.229-0.5-0.5v-27c0-0.271 0.229-0.5 0.5-0.5 0 0 15.499-0 15.5 0v7c0 0.552 0.448 1 1 1h7v19.5z\"></path>\n",
       "<path d=\"M23 26h-14c-0.552 0-1-0.448-1-1s0.448-1 1-1h14c0.552 0 1 0.448 1 1s-0.448 1-1 1z\"></path>\n",
       "<path d=\"M23 22h-14c-0.552 0-1-0.448-1-1s0.448-1 1-1h14c0.552 0 1 0.448 1 1s-0.448 1-1 1z\"></path>\n",
       "<path d=\"M23 18h-14c-0.552 0-1-0.448-1-1s0.448-1 1-1h14c0.552 0 1 0.448 1 1s-0.448 1-1 1z\"></path>\n",
       "</symbol>\n",
       "</defs>\n",
       "</svg>\n",
       "<style>/* CSS stylesheet for displaying xarray objects in jupyterlab.\n",
       " *\n",
       " */\n",
       "\n",
       ":root {\n",
       "  --xr-font-color0: var(--jp-content-font-color0, rgba(0, 0, 0, 1));\n",
       "  --xr-font-color2: var(--jp-content-font-color2, rgba(0, 0, 0, 0.54));\n",
       "  --xr-font-color3: var(--jp-content-font-color3, rgba(0, 0, 0, 0.38));\n",
       "  --xr-border-color: var(--jp-border-color2, #e0e0e0);\n",
       "  --xr-disabled-color: var(--jp-layout-color3, #bdbdbd);\n",
       "  --xr-background-color: var(--jp-layout-color0, white);\n",
       "  --xr-background-color-row-even: var(--jp-layout-color1, white);\n",
       "  --xr-background-color-row-odd: var(--jp-layout-color2, #eeeeee);\n",
       "}\n",
       "\n",
       "html[theme=dark],\n",
       "body[data-theme=dark],\n",
       "body.vscode-dark {\n",
       "  --xr-font-color0: rgba(255, 255, 255, 1);\n",
       "  --xr-font-color2: rgba(255, 255, 255, 0.54);\n",
       "  --xr-font-color3: rgba(255, 255, 255, 0.38);\n",
       "  --xr-border-color: #1F1F1F;\n",
       "  --xr-disabled-color: #515151;\n",
       "  --xr-background-color: #111111;\n",
       "  --xr-background-color-row-even: #111111;\n",
       "  --xr-background-color-row-odd: #313131;\n",
       "}\n",
       "\n",
       ".xr-wrap {\n",
       "  display: block !important;\n",
       "  min-width: 300px;\n",
       "  max-width: 700px;\n",
       "}\n",
       "\n",
       ".xr-text-repr-fallback {\n",
       "  /* fallback to plain text repr when CSS is not injected (untrusted notebook) */\n",
       "  display: none;\n",
       "}\n",
       "\n",
       ".xr-header {\n",
       "  padding-top: 6px;\n",
       "  padding-bottom: 6px;\n",
       "  margin-bottom: 4px;\n",
       "  border-bottom: solid 1px var(--xr-border-color);\n",
       "}\n",
       "\n",
       ".xr-header > div,\n",
       ".xr-header > ul {\n",
       "  display: inline;\n",
       "  margin-top: 0;\n",
       "  margin-bottom: 0;\n",
       "}\n",
       "\n",
       ".xr-obj-type,\n",
       ".xr-array-name {\n",
       "  margin-left: 2px;\n",
       "  margin-right: 10px;\n",
       "}\n",
       "\n",
       ".xr-obj-type {\n",
       "  color: var(--xr-font-color2);\n",
       "}\n",
       "\n",
       ".xr-sections {\n",
       "  padding-left: 0 !important;\n",
       "  display: grid;\n",
       "  grid-template-columns: 150px auto auto 1fr 20px 20px;\n",
       "}\n",
       "\n",
       ".xr-section-item {\n",
       "  display: contents;\n",
       "}\n",
       "\n",
       ".xr-section-item input {\n",
       "  display: none;\n",
       "}\n",
       "\n",
       ".xr-section-item input + label {\n",
       "  color: var(--xr-disabled-color);\n",
       "}\n",
       "\n",
       ".xr-section-item input:enabled + label {\n",
       "  cursor: pointer;\n",
       "  color: var(--xr-font-color2);\n",
       "}\n",
       "\n",
       ".xr-section-item input:enabled + label:hover {\n",
       "  color: var(--xr-font-color0);\n",
       "}\n",
       "\n",
       ".xr-section-summary {\n",
       "  grid-column: 1;\n",
       "  color: var(--xr-font-color2);\n",
       "  font-weight: 500;\n",
       "}\n",
       "\n",
       ".xr-section-summary > span {\n",
       "  display: inline-block;\n",
       "  padding-left: 0.5em;\n",
       "}\n",
       "\n",
       ".xr-section-summary-in:disabled + label {\n",
       "  color: var(--xr-font-color2);\n",
       "}\n",
       "\n",
       ".xr-section-summary-in + label:before {\n",
       "  display: inline-block;\n",
       "  content: '►';\n",
       "  font-size: 11px;\n",
       "  width: 15px;\n",
       "  text-align: center;\n",
       "}\n",
       "\n",
       ".xr-section-summary-in:disabled + label:before {\n",
       "  color: var(--xr-disabled-color);\n",
       "}\n",
       "\n",
       ".xr-section-summary-in:checked + label:before {\n",
       "  content: '▼';\n",
       "}\n",
       "\n",
       ".xr-section-summary-in:checked + label > span {\n",
       "  display: none;\n",
       "}\n",
       "\n",
       ".xr-section-summary,\n",
       ".xr-section-inline-details {\n",
       "  padding-top: 4px;\n",
       "  padding-bottom: 4px;\n",
       "}\n",
       "\n",
       ".xr-section-inline-details {\n",
       "  grid-column: 2 / -1;\n",
       "}\n",
       "\n",
       ".xr-section-details {\n",
       "  display: none;\n",
       "  grid-column: 1 / -1;\n",
       "  margin-bottom: 5px;\n",
       "}\n",
       "\n",
       ".xr-section-summary-in:checked ~ .xr-section-details {\n",
       "  display: contents;\n",
       "}\n",
       "\n",
       ".xr-array-wrap {\n",
       "  grid-column: 1 / -1;\n",
       "  display: grid;\n",
       "  grid-template-columns: 20px auto;\n",
       "}\n",
       "\n",
       ".xr-array-wrap > label {\n",
       "  grid-column: 1;\n",
       "  vertical-align: top;\n",
       "}\n",
       "\n",
       ".xr-preview {\n",
       "  color: var(--xr-font-color3);\n",
       "}\n",
       "\n",
       ".xr-array-preview,\n",
       ".xr-array-data {\n",
       "  padding: 0 5px !important;\n",
       "  grid-column: 2;\n",
       "}\n",
       "\n",
       ".xr-array-data,\n",
       ".xr-array-in:checked ~ .xr-array-preview {\n",
       "  display: none;\n",
       "}\n",
       "\n",
       ".xr-array-in:checked ~ .xr-array-data,\n",
       ".xr-array-preview {\n",
       "  display: inline-block;\n",
       "}\n",
       "\n",
       ".xr-dim-list {\n",
       "  display: inline-block !important;\n",
       "  list-style: none;\n",
       "  padding: 0 !important;\n",
       "  margin: 0;\n",
       "}\n",
       "\n",
       ".xr-dim-list li {\n",
       "  display: inline-block;\n",
       "  padding: 0;\n",
       "  margin: 0;\n",
       "}\n",
       "\n",
       ".xr-dim-list:before {\n",
       "  content: '(';\n",
       "}\n",
       "\n",
       ".xr-dim-list:after {\n",
       "  content: ')';\n",
       "}\n",
       "\n",
       ".xr-dim-list li:not(:last-child):after {\n",
       "  content: ',';\n",
       "  padding-right: 5px;\n",
       "}\n",
       "\n",
       ".xr-has-index {\n",
       "  font-weight: bold;\n",
       "}\n",
       "\n",
       ".xr-var-list,\n",
       ".xr-var-item {\n",
       "  display: contents;\n",
       "}\n",
       "\n",
       ".xr-var-item > div,\n",
       ".xr-var-item label,\n",
       ".xr-var-item > .xr-var-name span {\n",
       "  background-color: var(--xr-background-color-row-even);\n",
       "  margin-bottom: 0;\n",
       "}\n",
       "\n",
       ".xr-var-item > .xr-var-name:hover span {\n",
       "  padding-right: 5px;\n",
       "}\n",
       "\n",
       ".xr-var-list > li:nth-child(odd) > div,\n",
       ".xr-var-list > li:nth-child(odd) > label,\n",
       ".xr-var-list > li:nth-child(odd) > .xr-var-name span {\n",
       "  background-color: var(--xr-background-color-row-odd);\n",
       "}\n",
       "\n",
       ".xr-var-name {\n",
       "  grid-column: 1;\n",
       "}\n",
       "\n",
       ".xr-var-dims {\n",
       "  grid-column: 2;\n",
       "}\n",
       "\n",
       ".xr-var-dtype {\n",
       "  grid-column: 3;\n",
       "  text-align: right;\n",
       "  color: var(--xr-font-color2);\n",
       "}\n",
       "\n",
       ".xr-var-preview {\n",
       "  grid-column: 4;\n",
       "}\n",
       "\n",
       ".xr-index-preview {\n",
       "  grid-column: 2 / 5;\n",
       "  color: var(--xr-font-color2);\n",
       "}\n",
       "\n",
       ".xr-var-name,\n",
       ".xr-var-dims,\n",
       ".xr-var-dtype,\n",
       ".xr-preview,\n",
       ".xr-attrs dt {\n",
       "  white-space: nowrap;\n",
       "  overflow: hidden;\n",
       "  text-overflow: ellipsis;\n",
       "  padding-right: 10px;\n",
       "}\n",
       "\n",
       ".xr-var-name:hover,\n",
       ".xr-var-dims:hover,\n",
       ".xr-var-dtype:hover,\n",
       ".xr-attrs dt:hover {\n",
       "  overflow: visible;\n",
       "  width: auto;\n",
       "  z-index: 1;\n",
       "}\n",
       "\n",
       ".xr-var-attrs,\n",
       ".xr-var-data,\n",
       ".xr-index-data {\n",
       "  display: none;\n",
       "  background-color: var(--xr-background-color) !important;\n",
       "  padding-bottom: 5px !important;\n",
       "}\n",
       "\n",
       ".xr-var-attrs-in:checked ~ .xr-var-attrs,\n",
       ".xr-var-data-in:checked ~ .xr-var-data,\n",
       ".xr-index-data-in:checked ~ .xr-index-data {\n",
       "  display: block;\n",
       "}\n",
       "\n",
       ".xr-var-data > table {\n",
       "  float: right;\n",
       "}\n",
       "\n",
       ".xr-var-name span,\n",
       ".xr-var-data,\n",
       ".xr-index-name div,\n",
       ".xr-index-data,\n",
       ".xr-attrs {\n",
       "  padding-left: 25px !important;\n",
       "}\n",
       "\n",
       ".xr-attrs,\n",
       ".xr-var-attrs,\n",
       ".xr-var-data,\n",
       ".xr-index-data {\n",
       "  grid-column: 1 / -1;\n",
       "}\n",
       "\n",
       "dl.xr-attrs {\n",
       "  padding: 0;\n",
       "  margin: 0;\n",
       "  display: grid;\n",
       "  grid-template-columns: 125px auto;\n",
       "}\n",
       "\n",
       ".xr-attrs dt,\n",
       ".xr-attrs dd {\n",
       "  padding: 0;\n",
       "  margin: 0;\n",
       "  float: left;\n",
       "  padding-right: 10px;\n",
       "  width: auto;\n",
       "}\n",
       "\n",
       ".xr-attrs dt {\n",
       "  font-weight: normal;\n",
       "  grid-column: 1;\n",
       "}\n",
       "\n",
       ".xr-attrs dt:hover span {\n",
       "  display: inline-block;\n",
       "  background: var(--xr-background-color);\n",
       "  padding-right: 10px;\n",
       "}\n",
       "\n",
       ".xr-attrs dd {\n",
       "  grid-column: 2;\n",
       "  white-space: pre-wrap;\n",
       "  word-break: break-all;\n",
       "}\n",
       "\n",
       ".xr-icon-database,\n",
       ".xr-icon-file-text2,\n",
       ".xr-no-icon {\n",
       "  display: inline-block;\n",
       "  vertical-align: middle;\n",
       "  width: 1em;\n",
       "  height: 1.5em !important;\n",
       "  stroke-width: 0;\n",
       "  stroke: currentColor;\n",
       "  fill: currentColor;\n",
       "}\n",
       "</style><pre class='xr-text-repr-fallback'>&lt;xarray.Dataset&gt;\n",
       "Dimensions:    (time: 118, y: 148, x: 357)\n",
       "Coordinates:\n",
       "  * time       (time) datetime64[ns] 2017-11-17 2017-12-03 ... 2022-12-19\n",
       "    latitude   (y, x) float64 ...\n",
       "    longitude  (y, x) float64 ...\n",
       "Dimensions without coordinates: y, x\n",
       "Data variables:\n",
       "    EVI        (time, y, x) float64 ...</pre><div class='xr-wrap' style='display:none'><div class='xr-header'><div class='xr-obj-type'>xarray.Dataset</div></div><ul class='xr-sections'><li class='xr-section-item'><input id='section-4e72135a-683d-44c4-ad73-10873444e3c1' class='xr-section-summary-in' type='checkbox' disabled ><label for='section-4e72135a-683d-44c4-ad73-10873444e3c1' class='xr-section-summary'  title='Expand/collapse section'>Dimensions:</label><div class='xr-section-inline-details'><ul class='xr-dim-list'><li><span class='xr-has-index'>time</span>: 118</li><li><span>y</span>: 148</li><li><span>x</span>: 357</li></ul></div><div class='xr-section-details'></div></li><li class='xr-section-item'><input id='section-e823479d-da91-4868-ad1d-fcc482e8ca81' class='xr-section-summary-in' type='checkbox'  checked><label for='section-e823479d-da91-4868-ad1d-fcc482e8ca81' class='xr-section-summary' >Coordinates: <span>(3)</span></label><div class='xr-section-inline-details'></div><div class='xr-section-details'><ul class='xr-var-list'><li class='xr-var-item'><div class='xr-var-name'><span class='xr-has-index'>time</span></div><div class='xr-var-dims'>(time)</div><div class='xr-var-dtype'>datetime64[ns]</div><div class='xr-var-preview xr-preview'>2017-11-17 ... 2022-12-19</div><input id='attrs-d632d0ca-8166-4eb3-81b9-36c158cbb7a8' class='xr-var-attrs-in' type='checkbox' disabled><label for='attrs-d632d0ca-8166-4eb3-81b9-36c158cbb7a8' title='Show/Hide attributes'><svg class='icon xr-icon-file-text2'><use xlink:href='#icon-file-text2'></use></svg></label><input id='data-246e9422-cb69-41bb-ab00-a5e36fb999d5' class='xr-var-data-in' type='checkbox'><label for='data-246e9422-cb69-41bb-ab00-a5e36fb999d5' title='Show/Hide data repr'><svg class='icon xr-icon-database'><use xlink:href='#icon-database'></use></svg></label><div class='xr-var-attrs'><dl class='xr-attrs'></dl></div><div class='xr-var-data'><pre>array([&#x27;2017-11-17T00:00:00.000000000&#x27;, &#x27;2017-12-03T00:00:00.000000000&#x27;,\n",
       "       &#x27;2017-12-19T00:00:00.000000000&#x27;, &#x27;2018-01-01T00:00:00.000000000&#x27;,\n",
       "       &#x27;2018-01-17T00:00:00.000000000&#x27;, &#x27;2018-02-02T00:00:00.000000000&#x27;,\n",
       "       &#x27;2018-02-18T00:00:00.000000000&#x27;, &#x27;2018-03-06T00:00:00.000000000&#x27;,\n",
       "       &#x27;2018-03-22T00:00:00.000000000&#x27;, &#x27;2018-04-07T00:00:00.000000000&#x27;,\n",
       "       &#x27;2018-04-23T00:00:00.000000000&#x27;, &#x27;2018-05-09T00:00:00.000000000&#x27;,\n",
       "       &#x27;2018-05-25T00:00:00.000000000&#x27;, &#x27;2018-06-10T00:00:00.000000000&#x27;,\n",
       "       &#x27;2018-06-26T00:00:00.000000000&#x27;, &#x27;2018-07-12T00:00:00.000000000&#x27;,\n",
       "       &#x27;2018-07-28T00:00:00.000000000&#x27;, &#x27;2018-08-13T00:00:00.000000000&#x27;,\n",
       "       &#x27;2018-08-29T00:00:00.000000000&#x27;, &#x27;2018-09-14T00:00:00.000000000&#x27;,\n",
       "       &#x27;2018-09-30T00:00:00.000000000&#x27;, &#x27;2018-10-16T00:00:00.000000000&#x27;,\n",
       "       &#x27;2018-11-01T00:00:00.000000000&#x27;, &#x27;2018-11-17T00:00:00.000000000&#x27;,\n",
       "       &#x27;2018-12-03T00:00:00.000000000&#x27;, &#x27;2018-12-19T00:00:00.000000000&#x27;,\n",
       "       &#x27;2019-01-01T00:00:00.000000000&#x27;, &#x27;2019-01-17T00:00:00.000000000&#x27;,\n",
       "       &#x27;2019-02-02T00:00:00.000000000&#x27;, &#x27;2019-02-18T00:00:00.000000000&#x27;,\n",
       "       &#x27;2019-03-06T00:00:00.000000000&#x27;, &#x27;2019-03-22T00:00:00.000000000&#x27;,\n",
       "       &#x27;2019-04-07T00:00:00.000000000&#x27;, &#x27;2019-04-23T00:00:00.000000000&#x27;,\n",
       "       &#x27;2019-05-09T00:00:00.000000000&#x27;, &#x27;2019-05-25T00:00:00.000000000&#x27;,\n",
       "       &#x27;2019-06-10T00:00:00.000000000&#x27;, &#x27;2019-06-26T00:00:00.000000000&#x27;,\n",
       "       &#x27;2019-07-12T00:00:00.000000000&#x27;, &#x27;2019-07-28T00:00:00.000000000&#x27;,\n",
       "       &#x27;2019-08-13T00:00:00.000000000&#x27;, &#x27;2019-08-29T00:00:00.000000000&#x27;,\n",
       "       &#x27;2019-09-14T00:00:00.000000000&#x27;, &#x27;2019-09-30T00:00:00.000000000&#x27;,\n",
       "       &#x27;2019-10-16T00:00:00.000000000&#x27;, &#x27;2019-11-01T00:00:00.000000000&#x27;,\n",
       "       &#x27;2019-11-17T00:00:00.000000000&#x27;, &#x27;2019-12-03T00:00:00.000000000&#x27;,\n",
       "       &#x27;2019-12-19T00:00:00.000000000&#x27;, &#x27;2020-01-01T00:00:00.000000000&#x27;,\n",
       "       &#x27;2020-01-17T00:00:00.000000000&#x27;, &#x27;2020-02-02T00:00:00.000000000&#x27;,\n",
       "       &#x27;2020-02-18T00:00:00.000000000&#x27;, &#x27;2020-03-05T00:00:00.000000000&#x27;,\n",
       "       &#x27;2020-03-21T00:00:00.000000000&#x27;, &#x27;2020-04-06T00:00:00.000000000&#x27;,\n",
       "       &#x27;2020-04-22T00:00:00.000000000&#x27;, &#x27;2020-05-08T00:00:00.000000000&#x27;,\n",
       "       &#x27;2020-05-24T00:00:00.000000000&#x27;, &#x27;2020-06-09T00:00:00.000000000&#x27;,\n",
       "       &#x27;2020-06-25T00:00:00.000000000&#x27;, &#x27;2020-07-11T00:00:00.000000000&#x27;,\n",
       "       &#x27;2020-07-27T00:00:00.000000000&#x27;, &#x27;2020-08-12T00:00:00.000000000&#x27;,\n",
       "       &#x27;2020-08-28T00:00:00.000000000&#x27;, &#x27;2020-09-13T00:00:00.000000000&#x27;,\n",
       "       &#x27;2020-09-29T00:00:00.000000000&#x27;, &#x27;2020-10-15T00:00:00.000000000&#x27;,\n",
       "       &#x27;2020-10-31T00:00:00.000000000&#x27;, &#x27;2020-11-16T00:00:00.000000000&#x27;,\n",
       "       &#x27;2020-12-02T00:00:00.000000000&#x27;, &#x27;2020-12-18T00:00:00.000000000&#x27;,\n",
       "       &#x27;2021-01-01T00:00:00.000000000&#x27;, &#x27;2021-01-17T00:00:00.000000000&#x27;,\n",
       "       &#x27;2021-02-02T00:00:00.000000000&#x27;, &#x27;2021-02-18T00:00:00.000000000&#x27;,\n",
       "       &#x27;2021-03-06T00:00:00.000000000&#x27;, &#x27;2021-03-22T00:00:00.000000000&#x27;,\n",
       "       &#x27;2021-04-07T00:00:00.000000000&#x27;, &#x27;2021-04-23T00:00:00.000000000&#x27;,\n",
       "       &#x27;2021-05-09T00:00:00.000000000&#x27;, &#x27;2021-05-25T00:00:00.000000000&#x27;,\n",
       "       &#x27;2021-06-10T00:00:00.000000000&#x27;, &#x27;2021-06-26T00:00:00.000000000&#x27;,\n",
       "       &#x27;2021-07-12T00:00:00.000000000&#x27;, &#x27;2021-07-28T00:00:00.000000000&#x27;,\n",
       "       &#x27;2021-08-13T00:00:00.000000000&#x27;, &#x27;2021-08-29T00:00:00.000000000&#x27;,\n",
       "       &#x27;2021-09-14T00:00:00.000000000&#x27;, &#x27;2021-09-30T00:00:00.000000000&#x27;,\n",
       "       &#x27;2021-10-16T00:00:00.000000000&#x27;, &#x27;2021-11-01T00:00:00.000000000&#x27;,\n",
       "       &#x27;2021-11-17T00:00:00.000000000&#x27;, &#x27;2021-12-03T00:00:00.000000000&#x27;,\n",
       "       &#x27;2021-12-19T00:00:00.000000000&#x27;, &#x27;2022-01-01T00:00:00.000000000&#x27;,\n",
       "       &#x27;2022-01-17T00:00:00.000000000&#x27;, &#x27;2022-02-02T00:00:00.000000000&#x27;,\n",
       "       &#x27;2022-02-18T00:00:00.000000000&#x27;, &#x27;2022-03-06T00:00:00.000000000&#x27;,\n",
       "       &#x27;2022-03-22T00:00:00.000000000&#x27;, &#x27;2022-04-07T00:00:00.000000000&#x27;,\n",
       "       &#x27;2022-04-23T00:00:00.000000000&#x27;, &#x27;2022-05-09T00:00:00.000000000&#x27;,\n",
       "       &#x27;2022-05-25T00:00:00.000000000&#x27;, &#x27;2022-06-10T00:00:00.000000000&#x27;,\n",
       "       &#x27;2022-06-26T00:00:00.000000000&#x27;, &#x27;2022-07-12T00:00:00.000000000&#x27;,\n",
       "       &#x27;2022-07-28T00:00:00.000000000&#x27;, &#x27;2022-08-13T00:00:00.000000000&#x27;,\n",
       "       &#x27;2022-08-29T00:00:00.000000000&#x27;, &#x27;2022-09-14T00:00:00.000000000&#x27;,\n",
       "       &#x27;2022-09-30T00:00:00.000000000&#x27;, &#x27;2022-10-16T00:00:00.000000000&#x27;,\n",
       "       &#x27;2022-11-01T00:00:00.000000000&#x27;, &#x27;2022-11-17T00:00:00.000000000&#x27;,\n",
       "       &#x27;2022-12-03T00:00:00.000000000&#x27;, &#x27;2022-12-19T00:00:00.000000000&#x27;],\n",
       "      dtype=&#x27;datetime64[ns]&#x27;)</pre></div></li><li class='xr-var-item'><div class='xr-var-name'><span>latitude</span></div><div class='xr-var-dims'>(y, x)</div><div class='xr-var-dtype'>float64</div><div class='xr-var-preview xr-preview'>...</div><input id='attrs-8d3deb20-795b-4c45-b84e-ff4aabd8a3b2' class='xr-var-attrs-in' type='checkbox' disabled><label for='attrs-8d3deb20-795b-4c45-b84e-ff4aabd8a3b2' title='Show/Hide attributes'><svg class='icon xr-icon-file-text2'><use xlink:href='#icon-file-text2'></use></svg></label><input id='data-33412338-d27c-49cf-bea8-38ce2ccf7de2' class='xr-var-data-in' type='checkbox'><label for='data-33412338-d27c-49cf-bea8-38ce2ccf7de2' title='Show/Hide data repr'><svg class='icon xr-icon-database'><use xlink:href='#icon-database'></use></svg></label><div class='xr-var-attrs'><dl class='xr-attrs'></dl></div><div class='xr-var-data'><pre>[52836 values with dtype=float64]</pre></div></li><li class='xr-var-item'><div class='xr-var-name'><span>longitude</span></div><div class='xr-var-dims'>(y, x)</div><div class='xr-var-dtype'>float64</div><div class='xr-var-preview xr-preview'>...</div><input id='attrs-b957c422-3abc-445d-af6e-e326627d3418' class='xr-var-attrs-in' type='checkbox' disabled><label for='attrs-b957c422-3abc-445d-af6e-e326627d3418' title='Show/Hide attributes'><svg class='icon xr-icon-file-text2'><use xlink:href='#icon-file-text2'></use></svg></label><input id='data-e326dfb0-1144-4f17-baf0-fb12581bdec3' class='xr-var-data-in' type='checkbox'><label for='data-e326dfb0-1144-4f17-baf0-fb12581bdec3' title='Show/Hide data repr'><svg class='icon xr-icon-database'><use xlink:href='#icon-database'></use></svg></label><div class='xr-var-attrs'><dl class='xr-attrs'></dl></div><div class='xr-var-data'><pre>[52836 values with dtype=float64]</pre></div></li></ul></div></li><li class='xr-section-item'><input id='section-3210dbda-2bda-4988-afb4-7ff272337d6e' class='xr-section-summary-in' type='checkbox'  checked><label for='section-3210dbda-2bda-4988-afb4-7ff272337d6e' class='xr-section-summary' >Data variables: <span>(1)</span></label><div class='xr-section-inline-details'></div><div class='xr-section-details'><ul class='xr-var-list'><li class='xr-var-item'><div class='xr-var-name'><span>EVI</span></div><div class='xr-var-dims'>(time, y, x)</div><div class='xr-var-dtype'>float64</div><div class='xr-var-preview xr-preview'>...</div><input id='attrs-09f42d9e-de8e-46ad-851c-a525d9862c14' class='xr-var-attrs-in' type='checkbox' disabled><label for='attrs-09f42d9e-de8e-46ad-851c-a525d9862c14' title='Show/Hide attributes'><svg class='icon xr-icon-file-text2'><use xlink:href='#icon-file-text2'></use></svg></label><input id='data-b730ae32-6239-4821-9979-96aed52537fc' class='xr-var-data-in' type='checkbox'><label for='data-b730ae32-6239-4821-9979-96aed52537fc' title='Show/Hide data repr'><svg class='icon xr-icon-database'><use xlink:href='#icon-database'></use></svg></label><div class='xr-var-attrs'><dl class='xr-attrs'></dl></div><div class='xr-var-data'><pre>[6234648 values with dtype=float64]</pre></div></li></ul></div></li><li class='xr-section-item'><input id='section-25a70503-dacb-4d30-a70e-abe614488f3f' class='xr-section-summary-in' type='checkbox'  ><label for='section-25a70503-dacb-4d30-a70e-abe614488f3f' class='xr-section-summary' >Indexes: <span>(1)</span></label><div class='xr-section-inline-details'></div><div class='xr-section-details'><ul class='xr-var-list'><li class='xr-var-item'><div class='xr-index-name'><div>time</div></div><div class='xr-index-preview'>PandasIndex</div><div></div><input id='index-3c575154-90a2-4068-b3ce-25734897192f' class='xr-index-data-in' type='checkbox'/><label for='index-3c575154-90a2-4068-b3ce-25734897192f' title='Show/Hide index repr'><svg class='icon xr-icon-database'><use xlink:href='#icon-database'></use></svg></label><div class='xr-index-data'><pre>PandasIndex(DatetimeIndex([&#x27;2017-11-17&#x27;, &#x27;2017-12-03&#x27;, &#x27;2017-12-19&#x27;, &#x27;2018-01-01&#x27;,\n",
       "               &#x27;2018-01-17&#x27;, &#x27;2018-02-02&#x27;, &#x27;2018-02-18&#x27;, &#x27;2018-03-06&#x27;,\n",
       "               &#x27;2018-03-22&#x27;, &#x27;2018-04-07&#x27;,\n",
       "               ...\n",
       "               &#x27;2022-07-28&#x27;, &#x27;2022-08-13&#x27;, &#x27;2022-08-29&#x27;, &#x27;2022-09-14&#x27;,\n",
       "               &#x27;2022-09-30&#x27;, &#x27;2022-10-16&#x27;, &#x27;2022-11-01&#x27;, &#x27;2022-11-17&#x27;,\n",
       "               &#x27;2022-12-03&#x27;, &#x27;2022-12-19&#x27;],\n",
       "              dtype=&#x27;datetime64[ns]&#x27;, name=&#x27;time&#x27;, length=118, freq=None))</pre></div></li></ul></div></li><li class='xr-section-item'><input id='section-d43a173a-edbe-4c0c-a178-e4a7392d6632' class='xr-section-summary-in' type='checkbox' disabled ><label for='section-d43a173a-edbe-4c0c-a178-e4a7392d6632' class='xr-section-summary'  title='Expand/collapse section'>Attributes: <span>(0)</span></label><div class='xr-section-inline-details'></div><div class='xr-section-details'><dl class='xr-attrs'></dl></div></li></ul></div></div>"
      ],
      "text/plain": [
       "<xarray.Dataset>\n",
       "Dimensions:    (time: 118, y: 148, x: 357)\n",
       "Coordinates:\n",
       "  * time       (time) datetime64[ns] 2017-11-17 2017-12-03 ... 2022-12-19\n",
       "    latitude   (y, x) float64 ...\n",
       "    longitude  (y, x) float64 ...\n",
       "Dimensions without coordinates: y, x\n",
       "Data variables:\n",
       "    EVI        (time, y, x) float64 ..."
      ]
     },
     "execution_count": 10,
     "metadata": {},
     "output_type": "execute_result"
    }
   ],
   "source": [
    "evi_data"
   ]
  },
  {
   "cell_type": "code",
   "execution_count": 11,
   "id": "3935e260-f719-40ca-8025-bdc70aa8bbe6",
   "metadata": {
    "tags": []
   },
   "outputs": [],
   "source": [
    "lons = evi_data.longitude.values\n",
    "lats = evi_data.latitude.values"
   ]
  },
  {
   "cell_type": "code",
   "execution_count": 12,
   "id": "f5f1aaf6-6d51-4802-a9a3-cb3b853ea652",
   "metadata": {
    "tags": []
   },
   "outputs": [
    {
     "name": "stdout",
     "output_type": "stream",
     "text": [
      "Current time: 22:11:02\n"
     ]
    },
    {
     "name": "stderr",
     "output_type": "stream",
     "text": [
      "  0%|                                                                                            | 0/5 [00:00<?, ?it/s]"
     ]
    },
    {
     "name": "stdout",
     "output_type": "stream",
     "text": [
      "2018\n",
      "DJF\n",
      "Shapes (2150, 148, 357) (2150, 148, 357) (2150, 148, 357)\n"
     ]
    },
    {
     "name": "stderr",
     "output_type": "stream",
     "text": [
      "C:\\Users\\faisa\\AppData\\Local\\Temp\\ipykernel_27860\\1771942870.py:84: RuntimeWarning: All-NaN slice encountered\n",
      "  wind_speed_storm_2d = np.nanmax(wind_speed_storm_3d, axis=0) * storm_source_2d\n",
      "C:\\Users\\faisa\\AppData\\Local\\Temp\\ipykernel_27860\\1771942870.py:90: RuntimeWarning: All-NaN slice encountered\n",
      "  soil_m_storm_2d = np.nanmin(soil_m_storm_3d, axis=0) * storm_source_2d\n",
      "C:\\Users\\faisa\\AppData\\Local\\Temp\\ipykernel_27860\\1771942870.py:96: RuntimeWarning: All-NaN slice encountered\n",
      "  evi_storm_2d = np.nanmin(evi_storm_3d , axis=0) * storm_source_2d\n"
     ]
    },
    {
     "name": "stdout",
     "output_type": "stream",
     "text": [
      "MAM\n",
      "Shapes (2205, 148, 357) (2205, 148, 357) (2205, 148, 357)\n"
     ]
    },
    {
     "name": "stderr",
     "output_type": "stream",
     "text": [
      "C:\\Users\\faisa\\AppData\\Local\\Temp\\ipykernel_27860\\1771942870.py:84: RuntimeWarning: All-NaN slice encountered\n",
      "  wind_speed_storm_2d = np.nanmax(wind_speed_storm_3d, axis=0) * storm_source_2d\n",
      "C:\\Users\\faisa\\AppData\\Local\\Temp\\ipykernel_27860\\1771942870.py:90: RuntimeWarning: All-NaN slice encountered\n",
      "  soil_m_storm_2d = np.nanmin(soil_m_storm_3d, axis=0) * storm_source_2d\n",
      "C:\\Users\\faisa\\AppData\\Local\\Temp\\ipykernel_27860\\1771942870.py:96: RuntimeWarning: All-NaN slice encountered\n",
      "  evi_storm_2d = np.nanmin(evi_storm_3d , axis=0) * storm_source_2d\n"
     ]
    },
    {
     "name": "stdout",
     "output_type": "stream",
     "text": [
      "JJA\n",
      "Shapes (2196, 148, 357) (2196, 148, 357) (2196, 148, 357)\n"
     ]
    },
    {
     "name": "stderr",
     "output_type": "stream",
     "text": [
      "C:\\Users\\faisa\\AppData\\Local\\Temp\\ipykernel_27860\\1771942870.py:84: RuntimeWarning: All-NaN slice encountered\n",
      "  wind_speed_storm_2d = np.nanmax(wind_speed_storm_3d, axis=0) * storm_source_2d\n",
      "C:\\Users\\faisa\\AppData\\Local\\Temp\\ipykernel_27860\\1771942870.py:90: RuntimeWarning: All-NaN slice encountered\n",
      "  soil_m_storm_2d = np.nanmin(soil_m_storm_3d, axis=0) * storm_source_2d\n",
      "C:\\Users\\faisa\\AppData\\Local\\Temp\\ipykernel_27860\\1771942870.py:96: RuntimeWarning: All-NaN slice encountered\n",
      "  evi_storm_2d = np.nanmin(evi_storm_3d , axis=0) * storm_source_2d\n"
     ]
    },
    {
     "name": "stdout",
     "output_type": "stream",
     "text": [
      "SON\n",
      "Shapes (2158, 148, 357) (2158, 148, 357) (2158, 148, 357)\n"
     ]
    },
    {
     "name": "stderr",
     "output_type": "stream",
     "text": [
      "C:\\Users\\faisa\\AppData\\Local\\Temp\\ipykernel_27860\\1771942870.py:84: RuntimeWarning: All-NaN slice encountered\n",
      "  wind_speed_storm_2d = np.nanmax(wind_speed_storm_3d, axis=0) * storm_source_2d\n",
      "C:\\Users\\faisa\\AppData\\Local\\Temp\\ipykernel_27860\\1771942870.py:90: RuntimeWarning: All-NaN slice encountered\n",
      "  soil_m_storm_2d = np.nanmin(soil_m_storm_3d, axis=0) * storm_source_2d\n",
      "C:\\Users\\faisa\\AppData\\Local\\Temp\\ipykernel_27860\\1771942870.py:96: RuntimeWarning: All-NaN slice encountered\n",
      "  evi_storm_2d = np.nanmin(evi_storm_3d , axis=0) * storm_source_2d\n",
      " 20%|███████████████▌                                                              | 1/5 [2:13:18<8:53:14, 7998.60s/it]"
     ]
    },
    {
     "name": "stdout",
     "output_type": "stream",
     "text": [
      "2019\n",
      "DJF\n",
      "Shapes (2151, 148, 357) (2151, 148, 357) (2151, 148, 357)\n"
     ]
    },
    {
     "name": "stderr",
     "output_type": "stream",
     "text": [
      "C:\\Users\\faisa\\AppData\\Local\\Temp\\ipykernel_27860\\1771942870.py:84: RuntimeWarning: All-NaN slice encountered\n",
      "  wind_speed_storm_2d = np.nanmax(wind_speed_storm_3d, axis=0) * storm_source_2d\n",
      "C:\\Users\\faisa\\AppData\\Local\\Temp\\ipykernel_27860\\1771942870.py:90: RuntimeWarning: All-NaN slice encountered\n",
      "  soil_m_storm_2d = np.nanmin(soil_m_storm_3d, axis=0) * storm_source_2d\n",
      "C:\\Users\\faisa\\AppData\\Local\\Temp\\ipykernel_27860\\1771942870.py:96: RuntimeWarning: All-NaN slice encountered\n",
      "  evi_storm_2d = np.nanmin(evi_storm_3d , axis=0) * storm_source_2d\n"
     ]
    },
    {
     "name": "stdout",
     "output_type": "stream",
     "text": [
      "MAM\n",
      "Shapes (2205, 148, 357) (2205, 148, 357) (2205, 148, 357)\n"
     ]
    },
    {
     "name": "stderr",
     "output_type": "stream",
     "text": [
      "C:\\Users\\faisa\\AppData\\Local\\Temp\\ipykernel_27860\\1771942870.py:84: RuntimeWarning: All-NaN slice encountered\n",
      "  wind_speed_storm_2d = np.nanmax(wind_speed_storm_3d, axis=0) * storm_source_2d\n",
      "C:\\Users\\faisa\\AppData\\Local\\Temp\\ipykernel_27860\\1771942870.py:90: RuntimeWarning: All-NaN slice encountered\n",
      "  soil_m_storm_2d = np.nanmin(soil_m_storm_3d, axis=0) * storm_source_2d\n",
      "C:\\Users\\faisa\\AppData\\Local\\Temp\\ipykernel_27860\\1771942870.py:96: RuntimeWarning: All-NaN slice encountered\n",
      "  evi_storm_2d = np.nanmin(evi_storm_3d , axis=0) * storm_source_2d\n"
     ]
    },
    {
     "name": "stdout",
     "output_type": "stream",
     "text": [
      "JJA\n",
      "Shapes (2124, 148, 357) (2124, 148, 357) (2124, 148, 357)\n"
     ]
    },
    {
     "name": "stderr",
     "output_type": "stream",
     "text": [
      "C:\\Users\\faisa\\AppData\\Local\\Temp\\ipykernel_27860\\1771942870.py:84: RuntimeWarning: All-NaN slice encountered\n",
      "  wind_speed_storm_2d = np.nanmax(wind_speed_storm_3d, axis=0) * storm_source_2d\n",
      "C:\\Users\\faisa\\AppData\\Local\\Temp\\ipykernel_27860\\1771942870.py:90: RuntimeWarning: All-NaN slice encountered\n",
      "  soil_m_storm_2d = np.nanmin(soil_m_storm_3d, axis=0) * storm_source_2d\n",
      "C:\\Users\\faisa\\AppData\\Local\\Temp\\ipykernel_27860\\1771942870.py:96: RuntimeWarning: All-NaN slice encountered\n",
      "  evi_storm_2d = np.nanmin(evi_storm_3d , axis=0) * storm_source_2d\n"
     ]
    },
    {
     "name": "stdout",
     "output_type": "stream",
     "text": [
      "SON\n",
      "Shapes (2181, 148, 357) (2181, 148, 357) (2181, 148, 357)\n"
     ]
    },
    {
     "name": "stderr",
     "output_type": "stream",
     "text": [
      "C:\\Users\\faisa\\AppData\\Local\\Temp\\ipykernel_27860\\1771942870.py:84: RuntimeWarning: All-NaN slice encountered\n",
      "  wind_speed_storm_2d = np.nanmax(wind_speed_storm_3d, axis=0) * storm_source_2d\n",
      "C:\\Users\\faisa\\AppData\\Local\\Temp\\ipykernel_27860\\1771942870.py:90: RuntimeWarning: All-NaN slice encountered\n",
      "  soil_m_storm_2d = np.nanmin(soil_m_storm_3d, axis=0) * storm_source_2d\n",
      "C:\\Users\\faisa\\AppData\\Local\\Temp\\ipykernel_27860\\1771942870.py:96: RuntimeWarning: All-NaN slice encountered\n",
      "  evi_storm_2d = np.nanmin(evi_storm_3d , axis=0) * storm_source_2d\n",
      " 40%|███████████████████████████████▏                                              | 2/5 [4:16:38<6:22:19, 7646.52s/it]"
     ]
    },
    {
     "name": "stdout",
     "output_type": "stream",
     "text": [
      "2020\n",
      "DJF\n",
      "Shapes (2173, 148, 357) (2173, 148, 357) (2173, 148, 357)\n"
     ]
    },
    {
     "name": "stderr",
     "output_type": "stream",
     "text": [
      "C:\\Users\\faisa\\AppData\\Local\\Temp\\ipykernel_27860\\1771942870.py:84: RuntimeWarning: All-NaN slice encountered\n",
      "  wind_speed_storm_2d = np.nanmax(wind_speed_storm_3d, axis=0) * storm_source_2d\n",
      "C:\\Users\\faisa\\AppData\\Local\\Temp\\ipykernel_27860\\1771942870.py:90: RuntimeWarning: All-NaN slice encountered\n",
      "  soil_m_storm_2d = np.nanmin(soil_m_storm_3d, axis=0) * storm_source_2d\n",
      "C:\\Users\\faisa\\AppData\\Local\\Temp\\ipykernel_27860\\1771942870.py:96: RuntimeWarning: All-NaN slice encountered\n",
      "  evi_storm_2d = np.nanmin(evi_storm_3d , axis=0) * storm_source_2d\n"
     ]
    },
    {
     "name": "stdout",
     "output_type": "stream",
     "text": [
      "MAM\n",
      "Shapes (2204, 148, 357) (2204, 148, 357) (2204, 148, 357)\n"
     ]
    },
    {
     "name": "stderr",
     "output_type": "stream",
     "text": [
      "C:\\Users\\faisa\\AppData\\Local\\Temp\\ipykernel_27860\\1771942870.py:84: RuntimeWarning: All-NaN slice encountered\n",
      "  wind_speed_storm_2d = np.nanmax(wind_speed_storm_3d, axis=0) * storm_source_2d\n",
      "C:\\Users\\faisa\\AppData\\Local\\Temp\\ipykernel_27860\\1771942870.py:90: RuntimeWarning: All-NaN slice encountered\n",
      "  soil_m_storm_2d = np.nanmin(soil_m_storm_3d, axis=0) * storm_source_2d\n",
      "C:\\Users\\faisa\\AppData\\Local\\Temp\\ipykernel_27860\\1771942870.py:96: RuntimeWarning: All-NaN slice encountered\n",
      "  evi_storm_2d = np.nanmin(evi_storm_3d , axis=0) * storm_source_2d\n"
     ]
    },
    {
     "name": "stdout",
     "output_type": "stream",
     "text": [
      "JJA\n",
      "Shapes (2196, 148, 357) (2196, 148, 357) (2196, 148, 357)\n"
     ]
    },
    {
     "name": "stderr",
     "output_type": "stream",
     "text": [
      "C:\\Users\\faisa\\AppData\\Local\\Temp\\ipykernel_27860\\1771942870.py:84: RuntimeWarning: All-NaN slice encountered\n",
      "  wind_speed_storm_2d = np.nanmax(wind_speed_storm_3d, axis=0) * storm_source_2d\n",
      "C:\\Users\\faisa\\AppData\\Local\\Temp\\ipykernel_27860\\1771942870.py:90: RuntimeWarning: All-NaN slice encountered\n",
      "  soil_m_storm_2d = np.nanmin(soil_m_storm_3d, axis=0) * storm_source_2d\n",
      "C:\\Users\\faisa\\AppData\\Local\\Temp\\ipykernel_27860\\1771942870.py:96: RuntimeWarning: All-NaN slice encountered\n",
      "  evi_storm_2d = np.nanmin(evi_storm_3d , axis=0) * storm_source_2d\n"
     ]
    },
    {
     "name": "stdout",
     "output_type": "stream",
     "text": [
      "SON\n",
      "Shapes (2170, 148, 357) (2170, 148, 357) (2170, 148, 357)\n"
     ]
    },
    {
     "name": "stderr",
     "output_type": "stream",
     "text": [
      "C:\\Users\\faisa\\AppData\\Local\\Temp\\ipykernel_27860\\1771942870.py:84: RuntimeWarning: All-NaN slice encountered\n",
      "  wind_speed_storm_2d = np.nanmax(wind_speed_storm_3d, axis=0) * storm_source_2d\n",
      "C:\\Users\\faisa\\AppData\\Local\\Temp\\ipykernel_27860\\1771942870.py:90: RuntimeWarning: All-NaN slice encountered\n",
      "  soil_m_storm_2d = np.nanmin(soil_m_storm_3d, axis=0) * storm_source_2d\n",
      "C:\\Users\\faisa\\AppData\\Local\\Temp\\ipykernel_27860\\1771942870.py:96: RuntimeWarning: All-NaN slice encountered\n",
      "  evi_storm_2d = np.nanmin(evi_storm_3d , axis=0) * storm_source_2d\n",
      " 60%|██████████████████████████████████████████████▊                               | 3/5 [6:26:04<4:16:41, 7700.84s/it]"
     ]
    },
    {
     "name": "stdout",
     "output_type": "stream",
     "text": [
      "2021\n",
      "DJF\n",
      "Shapes (2154, 148, 357) (2154, 148, 357) (2154, 148, 357)\n"
     ]
    },
    {
     "name": "stderr",
     "output_type": "stream",
     "text": [
      "C:\\Users\\faisa\\AppData\\Local\\Temp\\ipykernel_27860\\1771942870.py:84: RuntimeWarning: All-NaN slice encountered\n",
      "  wind_speed_storm_2d = np.nanmax(wind_speed_storm_3d, axis=0) * storm_source_2d\n",
      "C:\\Users\\faisa\\AppData\\Local\\Temp\\ipykernel_27860\\1771942870.py:90: RuntimeWarning: All-NaN slice encountered\n",
      "  soil_m_storm_2d = np.nanmin(soil_m_storm_3d, axis=0) * storm_source_2d\n",
      "C:\\Users\\faisa\\AppData\\Local\\Temp\\ipykernel_27860\\1771942870.py:96: RuntimeWarning: All-NaN slice encountered\n",
      "  evi_storm_2d = np.nanmin(evi_storm_3d , axis=0) * storm_source_2d\n"
     ]
    },
    {
     "name": "stdout",
     "output_type": "stream",
     "text": [
      "MAM\n",
      "Shapes (2189, 148, 357) (2189, 148, 357) (2189, 148, 357)\n"
     ]
    },
    {
     "name": "stderr",
     "output_type": "stream",
     "text": [
      "C:\\Users\\faisa\\AppData\\Local\\Temp\\ipykernel_27860\\1771942870.py:84: RuntimeWarning: All-NaN slice encountered\n",
      "  wind_speed_storm_2d = np.nanmax(wind_speed_storm_3d, axis=0) * storm_source_2d\n",
      "C:\\Users\\faisa\\AppData\\Local\\Temp\\ipykernel_27860\\1771942870.py:90: RuntimeWarning: All-NaN slice encountered\n",
      "  soil_m_storm_2d = np.nanmin(soil_m_storm_3d, axis=0) * storm_source_2d\n",
      "C:\\Users\\faisa\\AppData\\Local\\Temp\\ipykernel_27860\\1771942870.py:96: RuntimeWarning: All-NaN slice encountered\n",
      "  evi_storm_2d = np.nanmin(evi_storm_3d , axis=0) * storm_source_2d\n"
     ]
    },
    {
     "name": "stdout",
     "output_type": "stream",
     "text": [
      "JJA\n",
      "Shapes (2204, 148, 357) (2204, 148, 357) (2204, 148, 357)\n"
     ]
    },
    {
     "name": "stderr",
     "output_type": "stream",
     "text": [
      "C:\\Users\\faisa\\AppData\\Local\\Temp\\ipykernel_27860\\1771942870.py:84: RuntimeWarning: All-NaN slice encountered\n",
      "  wind_speed_storm_2d = np.nanmax(wind_speed_storm_3d, axis=0) * storm_source_2d\n",
      "C:\\Users\\faisa\\AppData\\Local\\Temp\\ipykernel_27860\\1771942870.py:90: RuntimeWarning: All-NaN slice encountered\n",
      "  soil_m_storm_2d = np.nanmin(soil_m_storm_3d, axis=0) * storm_source_2d\n",
      "C:\\Users\\faisa\\AppData\\Local\\Temp\\ipykernel_27860\\1771942870.py:96: RuntimeWarning: All-NaN slice encountered\n",
      "  evi_storm_2d = np.nanmin(evi_storm_3d , axis=0) * storm_source_2d\n"
     ]
    },
    {
     "name": "stdout",
     "output_type": "stream",
     "text": [
      "SON\n",
      "Shapes (2168, 148, 357) (2168, 148, 357) (2168, 148, 357)\n"
     ]
    },
    {
     "name": "stderr",
     "output_type": "stream",
     "text": [
      "C:\\Users\\faisa\\AppData\\Local\\Temp\\ipykernel_27860\\1771942870.py:84: RuntimeWarning: All-NaN slice encountered\n",
      "  wind_speed_storm_2d = np.nanmax(wind_speed_storm_3d, axis=0) * storm_source_2d\n",
      "C:\\Users\\faisa\\AppData\\Local\\Temp\\ipykernel_27860\\1771942870.py:90: RuntimeWarning: All-NaN slice encountered\n",
      "  soil_m_storm_2d = np.nanmin(soil_m_storm_3d, axis=0) * storm_source_2d\n",
      "C:\\Users\\faisa\\AppData\\Local\\Temp\\ipykernel_27860\\1771942870.py:96: RuntimeWarning: All-NaN slice encountered\n",
      "  evi_storm_2d = np.nanmin(evi_storm_3d , axis=0) * storm_source_2d\n",
      " 80%|██████████████████████████████████████████████████████████████▍               | 4/5 [8:32:54<2:07:45, 7665.18s/it]"
     ]
    },
    {
     "name": "stdout",
     "output_type": "stream",
     "text": [
      "2022\n",
      "DJF\n",
      "Shapes (2140, 148, 357) (2140, 148, 357) (2140, 148, 357)\n"
     ]
    },
    {
     "name": "stderr",
     "output_type": "stream",
     "text": [
      "C:\\Users\\faisa\\AppData\\Local\\Temp\\ipykernel_27860\\1771942870.py:84: RuntimeWarning: All-NaN slice encountered\n",
      "  wind_speed_storm_2d = np.nanmax(wind_speed_storm_3d, axis=0) * storm_source_2d\n",
      "C:\\Users\\faisa\\AppData\\Local\\Temp\\ipykernel_27860\\1771942870.py:90: RuntimeWarning: All-NaN slice encountered\n",
      "  soil_m_storm_2d = np.nanmin(soil_m_storm_3d, axis=0) * storm_source_2d\n",
      "C:\\Users\\faisa\\AppData\\Local\\Temp\\ipykernel_27860\\1771942870.py:96: RuntimeWarning: All-NaN slice encountered\n",
      "  evi_storm_2d = np.nanmin(evi_storm_3d , axis=0) * storm_source_2d\n"
     ]
    },
    {
     "name": "stdout",
     "output_type": "stream",
     "text": [
      "MAM\n",
      "Shapes (2205, 148, 357) (2205, 148, 357) (2205, 148, 357)\n"
     ]
    },
    {
     "name": "stderr",
     "output_type": "stream",
     "text": [
      "C:\\Users\\faisa\\AppData\\Local\\Temp\\ipykernel_27860\\1771942870.py:84: RuntimeWarning: All-NaN slice encountered\n",
      "  wind_speed_storm_2d = np.nanmax(wind_speed_storm_3d, axis=0) * storm_source_2d\n",
      "C:\\Users\\faisa\\AppData\\Local\\Temp\\ipykernel_27860\\1771942870.py:90: RuntimeWarning: All-NaN slice encountered\n",
      "  soil_m_storm_2d = np.nanmin(soil_m_storm_3d, axis=0) * storm_source_2d\n",
      "C:\\Users\\faisa\\AppData\\Local\\Temp\\ipykernel_27860\\1771942870.py:96: RuntimeWarning: All-NaN slice encountered\n",
      "  evi_storm_2d = np.nanmin(evi_storm_3d , axis=0) * storm_source_2d\n"
     ]
    },
    {
     "name": "stdout",
     "output_type": "stream",
     "text": [
      "JJA\n",
      "Shapes (2195, 148, 357) (2195, 148, 357) (2195, 148, 357)\n"
     ]
    },
    {
     "name": "stderr",
     "output_type": "stream",
     "text": [
      "C:\\Users\\faisa\\AppData\\Local\\Temp\\ipykernel_27860\\1771942870.py:84: RuntimeWarning: All-NaN slice encountered\n",
      "  wind_speed_storm_2d = np.nanmax(wind_speed_storm_3d, axis=0) * storm_source_2d\n",
      "C:\\Users\\faisa\\AppData\\Local\\Temp\\ipykernel_27860\\1771942870.py:90: RuntimeWarning: All-NaN slice encountered\n",
      "  soil_m_storm_2d = np.nanmin(soil_m_storm_3d, axis=0) * storm_source_2d\n",
      "C:\\Users\\faisa\\AppData\\Local\\Temp\\ipykernel_27860\\1771942870.py:96: RuntimeWarning: All-NaN slice encountered\n",
      "  evi_storm_2d = np.nanmin(evi_storm_3d , axis=0) * storm_source_2d\n"
     ]
    },
    {
     "name": "stdout",
     "output_type": "stream",
     "text": [
      "SON\n",
      "Shapes (2179, 148, 357) (2179, 148, 357) (2179, 148, 357)\n"
     ]
    },
    {
     "name": "stderr",
     "output_type": "stream",
     "text": [
      "C:\\Users\\faisa\\AppData\\Local\\Temp\\ipykernel_27860\\1771942870.py:84: RuntimeWarning: All-NaN slice encountered\n",
      "  wind_speed_storm_2d = np.nanmax(wind_speed_storm_3d, axis=0) * storm_source_2d\n",
      "C:\\Users\\faisa\\AppData\\Local\\Temp\\ipykernel_27860\\1771942870.py:90: RuntimeWarning: All-NaN slice encountered\n",
      "  soil_m_storm_2d = np.nanmin(soil_m_storm_3d, axis=0) * storm_source_2d\n",
      "C:\\Users\\faisa\\AppData\\Local\\Temp\\ipykernel_27860\\1771942870.py:96: RuntimeWarning: All-NaN slice encountered\n",
      "  evi_storm_2d = np.nanmin(evi_storm_3d , axis=0) * storm_source_2d\n",
      "100%|███████████████████████████████████████████████████████████████████████████████| 5/5 [10:50:30<00:00, 7806.06s/it]\n"
     ]
    }
   ],
   "source": [
    "print(\"Current time:\", datetime.now().strftime(\"%H:%M:%S\"))\n",
    "# List of years to consider\n",
    "years = [2018,2019,2020,2021,2022]\n",
    "\n",
    "# Loop over the years\n",
    "for year in tqdm(years):\n",
    "    print(year)\n",
    "    # Loop over the seasons\n",
    "    for season in [\"DJF\",\"MAM\",\"JJA\",\"SON\"]:\n",
    "        print(season)\n",
    "        # Open the h5 file containing dust data for the current year and season, and read the dates\n",
    "        hf = h5py.File(\"dust_\" + str(year)+\"_\" + season + \".h5\")\n",
    "        dates= hf[\"dates\"][:]\n",
    "        hf.close()\n",
    "\n",
    "        # Open the h5 file containing dust labels for the current year and season, and read the labels\n",
    "        hf2= h5py.File(\"dust_\"+ str(year)+ \"_\" + season+ \"_Labels.h5\")\n",
    "        labels = hf2[\"labels\"][:]\n",
    "        hf2.close()\n",
    "\n",
    "        # Adjust dates to match the year and season\n",
    "        fixed_dates = fix_dates(dates , year , season)\n",
    "\n",
    "        # Open the NetCDF file containing wind data, select data matching the adjusted dates, and transpose the array\n",
    "        winds = xr.open_dataset('D:/ERA_wind/ERA_5_'+str(year)+'_'+season+'_resampled.nc')\n",
    "        wind_speed = winds.sel(time=fixed_dates)\n",
    "        wind_speed = wind_speed.wind_speed.values\n",
    "        wind_speed = np.transpose(wind_speed, (2, 0, 1))\n",
    "\n",
    "        # Determine start and end dates for the season, select and resample soil moisture data, and transpose the array\n",
    "        start , end = get_start_end(year,season)\n",
    "        sm_season = smap.sel(time=slice(start, end)).resample(time='1H').pad()\n",
    "        sm_season = sm_season.sel(time = fixed_dates).soil_moisture.values\n",
    "        sm_season =np.transpose(sm_season, (2, 0, 1))\n",
    "        \n",
    "        #\n",
    "        evi_season = evi_data.sel(time=slice(start- timedelta(days=20), end +  timedelta(days=20))).resample(time='1H').nearest()\n",
    "        evi_season = evi_season.sel(time = fixed_dates).EVI.values\n",
    "        evi_season[evi_season<0]=np.nan\n",
    "        \n",
    "        #Check Shapes\n",
    "        print( \"Shapes\",  labels.shape , sm_season.shape , wind_speed.shape)\n",
    "        \n",
    "        # Initialization of matrices to hold sum and count of wind speed and soil moisture for the current year and season\n",
    "        storm_ids = []\n",
    "        \n",
    "        sources=[]\n",
    "        coverages=[]\n",
    "        distances = []\n",
    "        durations = []\n",
    "        starts=[]\n",
    "        ends=[]\n",
    "        \n",
    "        ws_arrays = []\n",
    "        sm_arrays = []\n",
    "        evi_arrays =[]\n",
    "        # Loop over the unique dust storm labels\n",
    "        for i in np.unique(labels)[:-1]:\n",
    "            # Create a mask for the current dust storm\n",
    "            storm = labels==i\n",
    "\n",
    "            # Calculate wind speed and soil moisture for the current dust storm\n",
    "            storm_source_2d , storm_coverage , distance_traveled_km , storm_duration , start, end , wind_speed_storm_2d , soil_m_storm_2d , evi_storm_2d = get_storm_information(storm, wind_speed ,sm_season, evi_season ,fixed_dates, 3)\n",
    "            # Update the sum and count matrices for wind speed\n",
    "            storm_ids.append(i)\n",
    "            sources.append(storm_source_2d)\n",
    "            coverages.append(storm_coverage)\n",
    "            distances.append(distance_traveled_km)\n",
    "            durations.append(storm_duration)\n",
    "            starts.append(start)\n",
    "            ends.append(end)\n",
    "            sm_arrays.append(soil_m_storm_2d)\n",
    "            ws_arrays.append(wind_speed_storm_2d)\n",
    "            evi_arrays.append(evi_storm_2d)\n",
    "            \n",
    "        # Loop finished\n",
    "        \n",
    "        \n",
    "        ds = xr.Dataset(\n",
    "        data_vars={\n",
    "            \"source\": ((\"id\", \"lat\", \"lon\"),  np.stack(sources) ),\n",
    "            \"coverage\": ((\"id\", \"lat\", \"lon\"), np.stack(coverages)),\n",
    "            \"wind_speed\": ((\"id\", \"lat\", \"lon\"),  np.stack(ws_arrays)),\n",
    "            \"soil_moisture\": ((\"id\", \"lat\", \"lon\"),  np.stack(sm_arrays)),\n",
    "            \"evi\": ((\"id\", \"lat\", \"lon\"),  np.stack(evi_arrays)),\n",
    "            \"distance\": ((\"id\"),  np.array(distances)),\n",
    "            \"duration\": ((\"id\"),  np.array(durations)),\n",
    "            \"start_time\": ((\"id\"),  np.array(starts)),\n",
    "            \"end_time\": ((\"id\"),  np.array(ends)),\n",
    "            \n",
    "\n",
    "        },\n",
    "        coords={\n",
    "            \"storm_id\": np.array(storm_ids).astype(int),\n",
    "            \"latitude\": ((\"lat\", \"lon\"), lats),\n",
    "            \"longitude\": ((\"lat\", \"lon\"), lons),\n",
    "            },\n",
    "        )\n",
    "        \n",
    "        ds.to_netcdf(\"storm_properties_\" + season + \"_\"+ str(year) +\".nc\")\n",
    "\n",
    "        # # Add season_year\n",
    "        # season_year_list.append(season+\"_\"+str(year) )\n",
    "        # print(\"Current time:\", datetime.now().strftime(\"%H:%M:%S\"))\n",
    "        # print(\"\\n \\n\")"
   ]
  },
  {
   "cell_type": "code",
   "execution_count": null,
   "id": "2ec38723-328b-48a3-be52-2d825cd590cb",
   "metadata": {},
   "outputs": [],
   "source": []
  },
  {
   "cell_type": "markdown",
   "id": "7f656e3b-127e-4caf-b8ad-78a9acc333f6",
   "metadata": {
    "tags": []
   },
   "source": [
    "# Plotting"
   ]
  },
  {
   "cell_type": "code",
   "execution_count": null,
   "id": "e6c5e6d4-b64d-464f-9493-ac731e31d35b",
   "metadata": {
    "tags": []
   },
   "outputs": [],
   "source": [
    "ds['wind_speed_average'] = ds['wind_speed_sum'] / ds['wind_speed_count']\n",
    "ds['soil_moisture_average'] = ds['soil_moisture_sum'] / ds['soil_moisture_count']"
   ]
  },
  {
   "cell_type": "code",
   "execution_count": null,
   "id": "759be466-63fc-44d8-83a3-74bca96e5e5d",
   "metadata": {
    "tags": []
   },
   "outputs": [],
   "source": [
    "grouped = ds.groupby(\"time.month\")\n",
    "ds_mean = grouped.mean()"
   ]
  },
  {
   "cell_type": "code",
   "execution_count": null,
   "id": "2a8d3aef-3daf-40df-a92c-ae30225cce65",
   "metadata": {
    "tags": []
   },
   "outputs": [],
   "source": [
    "ds_sum = grouped.sum()"
   ]
  },
  {
   "cell_type": "code",
   "execution_count": null,
   "id": "f14779f1-0167-4f45-8098-a683a0c2c3ba",
   "metadata": {
    "tags": []
   },
   "outputs": [],
   "source": [
    "ds_mean"
   ]
  },
  {
   "cell_type": "code",
   "execution_count": null,
   "id": "956111c0-e0ec-4b19-b0b5-7469b8be318a",
   "metadata": {
    "tags": []
   },
   "outputs": [],
   "source": [
    "def cartopy_ax_2(crs, ax):\n",
    "    \"\"\"\n",
    "    Returns a Cartopy axis with features such as land, ocean, coastline, and borders added to it.\n",
    "    The axis is also configured with gridlines and formatted tick labels.\n",
    "    Args:\n",
    "    crs (cartopy.crs.CRS): The coordinate system of the axis.\n",
    "    ax (matplotlib.axes.Axes): The axis to be modified.\n",
    "    \n",
    "    Returns:\n",
    "    matplotlib.axes.Axes: The modified axis.\n",
    "    \"\"\"\n",
    "    #ax = plt.axes(projection=crs)\n",
    "    #ax.add_feature(cartopy.feature.LAND)\n",
    "    ax.add_feature(cartopy.feature.OCEAN)\n",
    "    ax.add_feature(cartopy.feature.COASTLINE,linewidth=0.5)\n",
    "    ax.add_feature(cartopy.feature.BORDERS, linestyle=':',linewidth=0.3)\n",
    "    return ax"
   ]
  },
  {
   "cell_type": "code",
   "execution_count": null,
   "id": "17947f66-4967-4e6b-a0e5-34c1de712199",
   "metadata": {
    "tags": []
   },
   "outputs": [],
   "source": [
    "crs = ccrs.PlateCarree()"
   ]
  },
  {
   "cell_type": "code",
   "execution_count": null,
   "id": "84c36c86-bbf0-402c-a124-9290e4789bf3",
   "metadata": {
    "tags": []
   },
   "outputs": [],
   "source": [
    "bounds = (-11.625, 77.375, 5.625, 42.375)"
   ]
  },
  {
   "cell_type": "code",
   "execution_count": null,
   "id": "5d7bdbe0-3333-4bb4-b4c1-c59d63cd4cc8",
   "metadata": {
    "tags": []
   },
   "outputs": [],
   "source": [
    "plt.figure(figsize=(22, 15))\n",
    "plt.suptitle(\"Hours of Dust Source\" , y=0.9)\n",
    "ax1 = plt.subplot(3, 2, 1, projection=crs)\n",
    "\n",
    "\n",
    "#ax1 = cartopy_ax_2(crs, ax1)\n",
    "ax1.add_feature(cartopy.feature.OCEAN)\n",
    "ax1.add_feature(cartopy.feature.COASTLINE,linewidth=0.5)\n",
    "ax1.add_feature(cartopy.feature.BORDERS, linestyle=':',linewidth=0.3)\n",
    "ax1.imshow( ds_mean.sel(month=1).dust.values , transform=crs, extent=bounds)\n",
    "ax1.set_title(\"DJF\" , size= 14)\n",
    "# gl = ax1.gridlines(draw_labels=True, linewidth=1, color=\"black\", alpha=0, linestyle=\"--\")\n",
    "# gl.top_labels = gl.right_labels= False\n",
    "# gl.bottom_labels = False \n",
    "# gl.yformatter = LATITUDE_FORMATTER\n",
    "# gl.ylocator = mticker.FixedLocator([10, 20, 30, 40])\n",
    "\n",
    "\n",
    "# ax2 = plt.subplot(3, 2, 2, projection=crs)\n",
    "# ax2 = cartopy_ax_2(crs,ax2)\n",
    "# ax2.set_extent(bounds, crs)\n",
    "# ax2.imshow(ds_mean.sel(month=4).dust.values , transform=crs, extent=bounds, cmap=c_map, vmax=max_val )\n",
    "# ax2.set_title(\"MAM\", size= 14)\n",
    "\n",
    "\n",
    "# ax3 = plt.subplot(3, 2, 3, projection=crs)\n",
    "# ax3 = cartopy_ax_2(crs,ax3)\n",
    "# ax3.set_extent(bounds, crs)\n",
    "# ax3.set_title(\"JJA\", size= 14)\n",
    "# m = ax3.imshow(ds_mean.sel(month=7).dust.values , transform=crs, extent=bounds, cmap=c_map ,vmax=max_val )\n",
    "# gl = ax3.gridlines(draw_labels=True, linewidth=1, color=\"black\", alpha=0, linestyle=\"--\")\n",
    "# gl.top_labels = gl.right_labels = False\n",
    "# gl.xformatter = LONGITUDE_FORMATTER\n",
    "# gl.yformatter = LATITUDE_FORMATTER\n",
    "# gl.xlocator = mticker.FixedLocator([0, 20,40,60]) #])40, 60, 80, -140, -120])\n",
    "# gl.ylocator = mticker.FixedLocator([10, 20, 30, 40])\n",
    "# #plt.colorbar(shrink = 0.67, extend=\"max\")\n",
    "# #\n",
    "# ax4 = plt.subplot(3, 2, 4, projection=crs)\n",
    "# ax4 = cartopy_ax_2(crs,ax4)\n",
    "# ax4.set_extent(bounds, crs)\n",
    "# ax4.set_title(\"SON\", size= 14)\n",
    "# ax4.imshow(ds_mean.sel(month=10).dust.values , transform=crs, extent=bounds, cmap=c_map ,vmax=max_val )\n",
    "# gl = ax4.gridlines(draw_labels=True, linewidth=1, color=\"black\", alpha=0, linestyle=\"--\")\n",
    "# gl.top_labels = gl.right_labels = False\n",
    "# gl.xformatter = LONGITUDE_FORMATTER\n",
    "# gl.left_labels = False \n",
    "# gl.xlocator = mticker.FixedLocator([0, 20,40,60]) #])40, 60, 80, -140, -120])\n",
    "\n",
    "\n",
    "\n",
    "# cax = plt.subplot(3, 2, 5)#, projection=crs)\n",
    "# cbar = plt.colorbar(m , shrink = 0.8, extend=\"max\", cax=cax, orientation='horizontal')\n",
    "# cbar.set_label('sum of source active hours', size= 14)\n",
    "# # Set the position of the colorbar Axes object\n",
    "# # Set the position of the colorbar Axes object\n",
    "\n",
    "\n",
    "# plt.subplots_adjust(hspace=0.01, wspace=0.01)\n",
    "# #plt.tight_layout()\n",
    "# cax.set_position([0.235, 0.33, 0.54, 0.05])\n",
    "# cax.set_aspect(2)"
   ]
  },
  {
   "cell_type": "code",
   "execution_count": null,
   "id": "1559a7ac-c813-4430-882f-247dc28c43d1",
   "metadata": {},
   "outputs": [],
   "source": []
  },
  {
   "cell_type": "code",
   "execution_count": null,
   "id": "fd25263c-cb2b-4425-8c5c-9f1a7431d25c",
   "metadata": {},
   "outputs": [],
   "source": []
  },
  {
   "cell_type": "code",
   "execution_count": null,
   "id": "bd7d337c-092b-4b46-b0e3-6896c2d1a920",
   "metadata": {},
   "outputs": [],
   "source": []
  },
  {
   "cell_type": "code",
   "execution_count": null,
   "id": "a52d3a1f-e887-4a21-b873-f4b08e0b3e54",
   "metadata": {},
   "outputs": [],
   "source": [
    "years = [2018,2019,2020,2021,2022]\n",
    "ws_sum_list =[]\n",
    "ws_count_list = []\n",
    "sm_sum_list = []\n",
    "sm_count_list = []\n",
    "for year in years:\n",
    "    for season in [\"DJF\",\"MAM\",\"JJA\",\"SON\"]:\n",
    "        # READ DUST\n",
    "        hf = h5py.File(\"dust_\" + str(year)+\"_\" + season + \".h5\")\n",
    "        dates= hf[\"dates\"][:]\n",
    "        hf.close()\n",
    "        #\n",
    "        hf2= h5py.File(\"dust_\"+ str(year)+ \"_\" + season+ \"_Labels.h5\")\n",
    "        labels = hf2[\"labels\"][:]\n",
    "        hf2.close()\n",
    "        fixed_dates = fix_dates(dates , year , season)\n",
    "        # Read winds\n",
    "        winds = xr.open_dataset('D:/ERA_wind/ERA_5_'+year+'_'+season+'_resampled.nc')\n",
    "        wind_speed = winds.sel(time=fixed_dates)\n",
    "        wind_speed = wind_speed.wind_speed.values\n",
    "        wind_speed = np.transpose(wind_speed, (2, 0, 1))\n",
    "        #Read Soil_Moisture\n",
    "        start , end = get_start_end(year,season)\n",
    "        sm_season = smap.sel(time=slice(start, end)).resample(time='1H').pad()\n",
    "        sm_season = sm_season.sel(time = fixed_dates).soil_moisture.values\n",
    "        sm_season =np.transpose(sm_season, (2, 0, 1))\n",
    "        # Calc data \n",
    "        wind_sum = np.zeros((148,357))\n",
    "        wind_count = np.zeros((148,357))\n",
    "        sm_sum = np.zeros((148,357))\n",
    "        sm_count = np.zeros((148,357))\n",
    "        \n",
    "        for i in np.unique(labels)[:-1]:\n",
    "            storm = labels==i\n",
    "            ws,sm  = get_wind_sm_for_storm(storm, sm_season, wind_speed)\n",
    "            #\n",
    "            wind_sum = wind_sum + ws\n",
    "            wind_count= wind_count + ((ws>0).astype(int))\n",
    "            #\n",
    "            if np.nansum(sm) >0:\n",
    "                sms_sums = sms_sums + sm\n",
    "                sms_counts= sms_counts + ((sm>0).astype(int))\n",
    "        ws_sum_list.append(wind_sum)\n",
    "        ws_count_list.append(wind_count)\n",
    "        sm_sum_list.append(sm_sum)\n",
    "        sm_count_list.append(sm_count)"
   ]
  },
  {
   "cell_type": "markdown",
   "id": "2aca42e9-6c9e-4018-bb8f-df4b5be01433",
   "metadata": {},
   "source": [
    "# Test run"
   ]
  },
  {
   "cell_type": "code",
   "execution_count": null,
   "id": "9b235099-4657-4f6f-be3a-b3cf1bed950c",
   "metadata": {
    "tags": []
   },
   "outputs": [],
   "source": [
    "year = 2018\n",
    "season = \"DJF\""
   ]
  },
  {
   "cell_type": "code",
   "execution_count": null,
   "id": "4504933c-15a7-44ed-a24c-673306b16ef4",
   "metadata": {
    "tags": []
   },
   "outputs": [],
   "source": [
    "%%time\n",
    "hf = h5py.File(\"dust_\" + str(year)+\"_\" + season + \".h5\")\n",
    "dates= hf[\"dates\"][:]\n",
    "hf.close()\n",
    "#\n",
    "hf2= h5py.File(\"dust_\"+ str(year)+ \"_\" + season+ \"_Labels.h5\")\n",
    "denoised_labels = hf2[\"labels\"][:]\n",
    "hf2.close()"
   ]
  },
  {
   "cell_type": "code",
   "execution_count": null,
   "id": "be37b593-e4f1-42cc-ad7f-975119d8ba1c",
   "metadata": {
    "tags": []
   },
   "outputs": [],
   "source": [
    "fixed_dates = fix_dates(dates,year , season)"
   ]
  },
  {
   "cell_type": "code",
   "execution_count": null,
   "id": "3ce6fd68-5f0e-4e5b-b474-d84843d55fc7",
   "metadata": {
    "tags": []
   },
   "outputs": [],
   "source": [
    "fixed_dates"
   ]
  },
  {
   "cell_type": "code",
   "execution_count": null,
   "id": "43ec1e27-47d3-4ed0-97d9-378d96dc07e1",
   "metadata": {
    "tags": []
   },
   "outputs": [],
   "source": [
    "smap=xr.open_dataset('D:/SMAP_Data_Processing/smap_8_day_resampled.nc')"
   ]
  },
  {
   "cell_type": "code",
   "execution_count": null,
   "id": "e6b4863b-4a9b-490f-b9cd-3064e4dab2e0",
   "metadata": {
    "tags": []
   },
   "outputs": [],
   "source": [
    "winds =xr.open_dataset('D:/ERA_wind/ERA_5_'+str(year)+'_'+season+'_resampled.nc')"
   ]
  },
  {
   "cell_type": "code",
   "execution_count": null,
   "id": "660929b0-8700-4ed3-83e3-4acbc89bab28",
   "metadata": {
    "tags": []
   },
   "outputs": [],
   "source": [
    "evi=xr.open_dataset('D:/modis/modis_evi_2017_2022.nc')"
   ]
  },
  {
   "cell_type": "code",
   "execution_count": null,
   "id": "5cf2290d-d686-48bb-81f4-8e0771fb7649",
   "metadata": {
    "tags": []
   },
   "outputs": [],
   "source": [
    "smap"
   ]
  },
  {
   "cell_type": "code",
   "execution_count": null,
   "id": "82335e56-bb23-4bf8-919c-ead63d4555f8",
   "metadata": {
    "tags": []
   },
   "outputs": [],
   "source": [
    "evi"
   ]
  },
  {
   "cell_type": "code",
   "execution_count": null,
   "id": "9c4b5a0e-f2ae-476f-ad24-760d8a4e2804",
   "metadata": {
    "tags": []
   },
   "outputs": [],
   "source": [
    "start , end = get_start_end(year,season)\n"
   ]
  },
  {
   "cell_type": "code",
   "execution_count": null,
   "id": "5cf6df53-d0f5-48ff-b33d-b913e2daa136",
   "metadata": {
    "tags": []
   },
   "outputs": [],
   "source": [
    "end"
   ]
  },
  {
   "cell_type": "code",
   "execution_count": null,
   "id": "a07e4669-e3e8-40e5-9858-1d07ed72aad7",
   "metadata": {
    "tags": []
   },
   "outputs": [],
   "source": [
    "evi_season = evi.sel(time=slice(start- timedelta(days=20), end +  timedelta(days=20))).resample(time='1H').nearest()"
   ]
  },
  {
   "cell_type": "code",
   "execution_count": null,
   "id": "e2f5a56f-da6c-4e9e-89d4-51859e69fbd3",
   "metadata": {
    "tags": []
   },
   "outputs": [],
   "source": [
    "evi_season"
   ]
  },
  {
   "cell_type": "code",
   "execution_count": null,
   "id": "61df6d57-9dfb-41a1-9643-ab501c44ab84",
   "metadata": {
    "tags": []
   },
   "outputs": [],
   "source": [
    "%%time\n",
    "evi_season = evi_season.sel(time = fixed_dates).EVI.values"
   ]
  },
  {
   "cell_type": "code",
   "execution_count": null,
   "id": "08099f08-81e8-4912-a551-3adc28165704",
   "metadata": {
    "tags": []
   },
   "outputs": [],
   "source": [
    "plt.imshow(evi_season[0])\n",
    "plt.colorbar()"
   ]
  },
  {
   "cell_type": "code",
   "execution_count": null,
   "id": "d9ffd2f9-767c-44ae-af83-265dc28db54a",
   "metadata": {
    "tags": []
   },
   "outputs": [],
   "source": [
    "sm_season = smap.sel(time=slice(start, end)).resample(time='1H').pad()"
   ]
  },
  {
   "cell_type": "code",
   "execution_count": null,
   "id": "05bba863-f304-45f6-8dfb-5481843bcf78",
   "metadata": {
    "tags": []
   },
   "outputs": [],
   "source": [
    "%%time\n",
    "sm_season = sm_season.sel(time = fixed_dates).soil_moisture.values"
   ]
  },
  {
   "cell_type": "code",
   "execution_count": null,
   "id": "55ba7456-18e6-4cef-9dc6-c34c7a496959",
   "metadata": {
    "tags": []
   },
   "outputs": [],
   "source": [
    "sm_season =np.transpose(sm_season, (2, 0, 1))"
   ]
  },
  {
   "cell_type": "code",
   "execution_count": null,
   "id": "b921dfae-0d22-4878-958e-f4a6e4513c5d",
   "metadata": {
    "tags": []
   },
   "outputs": [],
   "source": [
    "#np.unique(denoised_labels)"
   ]
  },
  {
   "cell_type": "code",
   "execution_count": null,
   "id": "8d7679bc-1dd5-4445-a8d4-38668192caef",
   "metadata": {
    "tags": []
   },
   "outputs": [],
   "source": [
    "wind_speed = winds.sel(time=fixed_dates)"
   ]
  },
  {
   "cell_type": "code",
   "execution_count": null,
   "id": "a148ed49-8724-49ad-a72e-851af2acb310",
   "metadata": {
    "tags": []
   },
   "outputs": [],
   "source": [
    "%%time\n",
    "wind_speed = wind_speed.wind_speed.values"
   ]
  },
  {
   "cell_type": "code",
   "execution_count": null,
   "id": "558a93e7-5467-4bf9-8e29-4f04f9e3ce7c",
   "metadata": {
    "tags": []
   },
   "outputs": [],
   "source": [
    "wind_speed = np.transpose(wind_speed, (2, 0, 1))"
   ]
  },
  {
   "cell_type": "code",
   "execution_count": null,
   "id": "adb268c9-8d48-4751-89d3-74d1bbd534dc",
   "metadata": {
    "tags": []
   },
   "outputs": [],
   "source": [
    "wind_speed.shape"
   ]
  },
  {
   "cell_type": "code",
   "execution_count": null,
   "id": "77d22607-d943-4aae-aeea-c9e090ef4d48",
   "metadata": {
    "tags": []
   },
   "outputs": [],
   "source": [
    "denoised_labels.shape"
   ]
  },
  {
   "cell_type": "code",
   "execution_count": null,
   "id": "d154a709-bc4b-4667-b919-ae14fee80a26",
   "metadata": {
    "tags": []
   },
   "outputs": [],
   "source": [
    "#storm_mask_3d= (denoised_labels==27)"
   ]
  },
  {
   "cell_type": "code",
   "execution_count": null,
   "id": "1bb084da-cf41-4575-9d71-92ec227a0899",
   "metadata": {
    "tags": []
   },
   "outputs": [],
   "source": [
    "storm_ids = []\n",
    "\n",
    "sources=[]\n",
    "coverages=[]\n",
    "distances = []\n",
    "durations = []\n",
    "starts=[]\n",
    "ends=[]\n",
    "\n",
    "ws_arrays = []\n",
    "sm_arrays = []\n",
    "evi_arrays =[]\n",
    "# Loop over the unique dust storm labels\n",
    "for i in np.unique(denoised_labels)[:-1]:\n",
    "    # Create a mask for the current dust storm\n",
    "    storm = denoised_labels==i\n",
    "\n",
    "    # Calculate wind speed and soil moisture for the current dust storm\n",
    "    storm_source_2d , storm_coverage , distance_traveled_km , storm_duration , start, end , wind_speed_storm_2d , soil_m_storm_2d , evi_storm_2d = get_storm_information(storm, wind_speed ,sm_season, evi_season ,fixed_dates, 3)\n",
    "    # Update the sum and count matrices for wind speed\n",
    "    storm_ids.append(i)\n",
    "    sources.append(storm_source_2d)\n",
    "    coverages.append(storm_coverage)\n",
    "    distances.append(distance_traveled_km)\n",
    "    durations.append(storm_duration)\n",
    "    starts.append(start)\n",
    "    ends.append(end)\n",
    "    sm_arrays.append(soil_m_storm_2d)\n",
    "    ws_arrays.append(wind_speed_storm_2d)\n",
    "    evi_arrays.append(evi_storm_2d)\n",
    "\n",
    "# Loop finished\n",
    "\n",
    "\n",
    "ds = xr.Dataset(\n",
    "data_vars={\n",
    "    \"source\": ((\"id\", \"lat\", \"lon\"),  np.stack(sources) ),\n",
    "    \"coverage\": ((\"id\", \"lat\", \"lon\"), np.stack(coverages)),\n",
    "    \"wind_speed\": ((\"id\", \"lat\", \"lon\"),  np.stack(ws_arrays)),\n",
    "    \"soil_moisture\": ((\"id\", \"lat\", \"lon\"),  np.stack(sm_arrays)),\n",
    "    \"evi\": ((\"id\", \"lat\", \"lon\"),  np.stack(evi_arrays)),\n",
    "    \"distance\": ((\"id\"),  np.array(distances)),\n",
    "    \"duration\": ((\"id\"),  np.array(durations)),\n",
    "    \"start_time\": ((\"id\"),  np.array(starts)),\n",
    "    \"end_time\": ((\"id\"),  np.array(ends)),\n",
    "\n",
    "\n",
    "},\n",
    "coords={\n",
    "    \"storm_id\": np.array(storm_ids),\n",
    "    \"latitude\": ((\"lat\", \"lon\"), lats),\n",
    "    \"longitude\": ((\"lat\", \"lon\"), lons),\n",
    "    },\n",
    ")\n",
    "\n",
    "ds.to_netcdf(\"storm_properties_\" + season + \"_\"+ str(year) +\".nc\")"
   ]
  },
  {
   "cell_type": "code",
   "execution_count": null,
   "id": "32eb1d3f-2dfd-467a-a2ec-d144b3168b14",
   "metadata": {
    "tags": []
   },
   "outputs": [],
   "source": [
    "ds = xr.Dataset(\n",
    "data_vars={\n",
    "    \"source\": ((\"id\", \"lat\", \"lon\"),  np.stack(sources) ),\n",
    "    \"coverage\": ((\"id\", \"lat\", \"lon\"), np.stack(coverages)),\n",
    "    \"wind_speed\": ((\"id\", \"lat\", \"lon\"),  np.stack(ws_arrays)),\n",
    "    \"soil_moisture\": ((\"id\", \"lat\", \"lon\"),  np.stack(sm_arrays)),\n",
    "    \"evi\": ((\"id\", \"lat\", \"lon\"),  np.stack(evi_arrays)),\n",
    "    \"distance\": ((\"id\"),  np.array(distances)),\n",
    "    \"duration\": ((\"id\"),  np.array(durations)),\n",
    "    \"start_time\": ((\"id\"),  np.array(starts)),\n",
    "    \"end_time\": ((\"id\"),  np.array(ends)),\n",
    "\n",
    "\n",
    "},\n",
    "coords={\n",
    "    \"storm_id\": np.array(storm_ids).astype(int),\n",
    "    \"latitude\": ((\"lat\", \"lon\"), lats),\n",
    "    \"longitude\": ((\"lat\", \"lon\"), lons),\n",
    "    },\n",
    ")\n",
    "\n",
    "ds.to_netcdf(\"storm_properties_\" + season + \"_\"+ str(year) +\".nc\")"
   ]
  },
  {
   "cell_type": "code",
   "execution_count": null,
   "id": "fd58cf1f-1280-4f26-b267-903e8c37e922",
   "metadata": {
    "tags": []
   },
   "outputs": [],
   "source": [
    " np.array(starts)"
   ]
  },
  {
   "cell_type": "code",
   "execution_count": null,
   "id": "0588986b-f5b2-43c7-8568-fbb0dd403695",
   "metadata": {
    "tags": []
   },
   "outputs": [],
   "source": [
    "ds"
   ]
  },
  {
   "cell_type": "code",
   "execution_count": null,
   "id": "323117b7-9697-47aa-b62a-4ca6b3aea656",
   "metadata": {},
   "outputs": [],
   "source": []
  },
  {
   "cell_type": "code",
   "execution_count": null,
   "id": "dd34196b-7cfd-498f-aef3-f8e9f162cdfd",
   "metadata": {
    "tags": []
   },
   "outputs": [],
   "source": [
    "plt.imshow(sources[0])"
   ]
  },
  {
   "cell_type": "code",
   "execution_count": null,
   "id": "9537820c-c04e-468d-9ac6-892ab13febee",
   "metadata": {
    "tags": []
   },
   "outputs": [],
   "source": [
    "plt.imshow(ws_arrays[0])\n",
    "plt.colorbar()"
   ]
  },
  {
   "cell_type": "code",
   "execution_count": null,
   "id": "6a124864-2def-4f83-bfcf-740d3235daef",
   "metadata": {},
   "outputs": [],
   "source": []
  },
  {
   "cell_type": "code",
   "execution_count": null,
   "id": "1a204001-d843-44b0-bb73-7e3828031848",
   "metadata": {},
   "outputs": [],
   "source": []
  },
  {
   "cell_type": "code",
   "execution_count": null,
   "id": "63cf57dc-48c5-402d-8d07-fb68d76ea124",
   "metadata": {
    "tags": []
   },
   "outputs": [],
   "source": [
    "%%time\n",
    "\n",
    "wss_sums = np.zeros((148,357))\n",
    "wss_counts = np.zeros((148,357))\n",
    "sms_sums = np.zeros((148,357))\n",
    "sms_counts = np.zeros((148,357))\n",
    "\n",
    "sms = []\n",
    "for i in np.unique(denoised_labels[:-1]):\n",
    "    storm = denoised_labels==i\n",
    "    ws,sm  = get_wind_sm_for_storm(storm, sm_season, wind_speed)\n",
    "    #\n",
    "    print(np.nansum(sm))\n",
    "    plt.imshow(sm)\n",
    "    plt.show()\n",
    "    #\n",
    "\n",
    "    plt.imshow(sms_sums)\n",
    "    plt.show()\n",
    "    #\n",
    "    wss_sums = wss_sums + ws\n",
    "    wss_counts= wss_counts + ((ws>0).astype(int))\n",
    "    #\n",
    "    if np.nansum(sm) >0:\n",
    "        sms_sums = sms_sums + sm\n",
    "        sms_counts= sms_counts + ((sm>0).astype(int))"
   ]
  },
  {
   "cell_type": "code",
   "execution_count": null,
   "id": "d84735cb-ba8c-4e5e-b4d5-771764da581f",
   "metadata": {
    "tags": []
   },
   "outputs": [],
   "source": [
    "np.unique(denoised_labels[:-1])"
   ]
  },
  {
   "cell_type": "code",
   "execution_count": null,
   "id": "04022c53-2178-406b-8215-fb753ce4e21c",
   "metadata": {},
   "outputs": [],
   "source": [
    "#for i in np.unique(denoised_labels[:-1]):\n",
    "storm = denoised_labels==6\n",
    "# first_inds = np.unique(np.nonzero(storm_mask_3d)[0])[:hrs]\n",
    "# storm_mask_2d = np.logical_or.reduce(storm_mask_3d[first_inds] , axis=0).astype(float)"
   ]
  },
  {
   "cell_type": "code",
   "execution_count": null,
   "id": "c8182dd6-7d61-47f9-9e58-4ffd065cbcce",
   "metadata": {
    "tags": []
   },
   "outputs": [],
   "source": [
    "np.sum(storm)"
   ]
  },
  {
   "cell_type": "code",
   "execution_count": null,
   "id": "20a69b23-38d0-47c8-a368-9eda336ec192",
   "metadata": {
    "tags": []
   },
   "outputs": [],
   "source": [
    "start= fixed_dates[np.unique(np.nonzero(storm)[0])[0]]\n",
    "end =  fixed_dates[800]"
   ]
  },
  {
   "cell_type": "code",
   "execution_count": null,
   "id": "7913699b-0fb7-43bc-b48d-9acd1265639a",
   "metadata": {
    "tags": []
   },
   "outputs": [],
   "source": [
    "start , end"
   ]
  },
  {
   "cell_type": "code",
   "execution_count": null,
   "id": "9cf9dcb6-bca1-4a7e-97c4-1bcc02de3cee",
   "metadata": {
    "tags": []
   },
   "outputs": [],
   "source": []
  },
  {
   "cell_type": "code",
   "execution_count": null,
   "id": "99b89a97-51db-459e-8948-9ee36c96476f",
   "metadata": {
    "tags": []
   },
   "outputs": [],
   "source": [
    "time_difference"
   ]
  },
  {
   "cell_type": "code",
   "execution_count": null,
   "id": "973d6fe0-be42-482d-b220-35fe9f106bc5",
   "metadata": {
    "tags": []
   },
   "outputs": [],
   "source": []
  },
  {
   "cell_type": "code",
   "execution_count": null,
   "id": "19321044-3c13-40de-a4f9-e958096a5fd8",
   "metadata": {
    "tags": []
   },
   "outputs": [],
   "source": [
    "fixed_dates[start]"
   ]
  },
  {
   "cell_type": "code",
   "execution_count": null,
   "id": "d5e3495b-a429-4236-9eb1-ec892eca02db",
   "metadata": {
    "tags": []
   },
   "outputs": [],
   "source": [
    "duration = len(np.unique(np.nonzero(storm)[0]))"
   ]
  },
  {
   "cell_type": "code",
   "execution_count": null,
   "id": "237fb2e7-da2b-456e-9b88-76052caf4fec",
   "metadata": {
    "tags": []
   },
   "outputs": [],
   "source": [
    "storm_coverage = np.logical_or.reduce(storm , axis=0)"
   ]
  },
  {
   "cell_type": "code",
   "execution_count": null,
   "id": "43de309d-21f0-482d-a067-019852fbad30",
   "metadata": {
    "tags": []
   },
   "outputs": [],
   "source": [
    "storm_coverage.astype(int)"
   ]
  },
  {
   "cell_type": "code",
   "execution_count": null,
   "id": "8d208255-27c3-41a0-8cb3-7278471ba21b",
   "metadata": {
    "tags": []
   },
   "outputs": [],
   "source": [
    "plt.imshow(storm_coverage.astype(int))"
   ]
  },
  {
   "cell_type": "code",
   "execution_count": null,
   "id": "158a54a9-48cc-413a-b920-dc27ef89c47b",
   "metadata": {
    "tags": []
   },
   "outputs": [],
   "source": [
    "plt.imshow(np.sum(storm,axis=0))"
   ]
  },
  {
   "cell_type": "code",
   "execution_count": null,
   "id": "d2268c76-7231-4ccb-8652-369d45a04a42",
   "metadata": {
    "tags": []
   },
   "outputs": [],
   "source": [
    "end"
   ]
  },
  {
   "cell_type": "code",
   "execution_count": null,
   "id": "60fc3b9c-0929-491b-a3b7-518510f05016",
   "metadata": {},
   "outputs": [],
   "source": []
  }
 ],
 "metadata": {
  "kernelspec": {
   "display_name": "Python 3 (ipykernel)",
   "language": "python",
   "name": "python3"
  },
  "language_info": {
   "codemirror_mode": {
    "name": "ipython",
    "version": 3
   },
   "file_extension": ".py",
   "mimetype": "text/x-python",
   "name": "python",
   "nbconvert_exporter": "python",
   "pygments_lexer": "ipython3",
   "version": "3.11.3"
  }
 },
 "nbformat": 4,
 "nbformat_minor": 5
}
